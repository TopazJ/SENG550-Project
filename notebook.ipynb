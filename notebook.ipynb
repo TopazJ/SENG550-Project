{
 "cells": [
  {
   "cell_type": "code",
   "execution_count": 1,
   "id": "e120e095",
   "metadata": {
    "trusted": false
   },
   "outputs": [
    {
     "name": "stdout",
     "output_type": "stream",
     "text": [
      "Collecting nltk==3.6.5\r\n",
      "  Downloading nltk-3.6.5-py3-none-any.whl (1.5 MB)\r\n",
      "     |████████████████████████████████| 1.5 MB 1.5 MB/s            \r\n",
      "\u001B[?25hRequirement already satisfied: tqdm in /opt/conda/lib/python3.9/site-packages (from nltk==3.6.5) (4.62.3)\r\n",
      "Requirement already satisfied: joblib in /opt/conda/lib/python3.9/site-packages (from nltk==3.6.5) (1.1.0)\r\n",
      "Collecting regex>=2021.8.3\r\n",
      "  Downloading regex-2021.11.10-cp39-cp39-manylinux_2_17_x86_64.manylinux2014_x86_64.whl (763 kB)\r\n",
      "     |████████████████████████████████| 763 kB 11.9 MB/s            \r\n",
      "\u001B[?25hRequirement already satisfied: click in /opt/conda/lib/python3.9/site-packages (from nltk==3.6.5) (8.0.3)\r\n",
      "Installing collected packages: regex, nltk\r\n",
      "Successfully installed nltk-3.6.5 regex-2021.11.10\r\n",
      "Collecting sklearn==0.0\r\n",
      "  Downloading sklearn-0.0.tar.gz (1.1 kB)\r\n",
      "  Preparing metadata (setup.py) ... \u001B[?25ldone\r\n",
      "\u001B[?25hRequirement already satisfied: scikit-learn in /opt/conda/lib/python3.9/site-packages (from sklearn==0.0) (1.0.1)\r\n",
      "Requirement already satisfied: numpy>=1.14.6 in /opt/conda/lib/python3.9/site-packages (from scikit-learn->sklearn==0.0) (1.20.3)\r\n",
      "Requirement already satisfied: joblib>=0.11 in /opt/conda/lib/python3.9/site-packages (from scikit-learn->sklearn==0.0) (1.1.0)\r\n",
      "Requirement already satisfied: threadpoolctl>=2.0.0 in /opt/conda/lib/python3.9/site-packages (from scikit-learn->sklearn==0.0) (3.0.0)\r\n",
      "Requirement already satisfied: scipy>=1.1.0 in /opt/conda/lib/python3.9/site-packages (from scikit-learn->sklearn==0.0) (1.7.2)\r\n",
      "Building wheels for collected packages: sklearn\r\n",
      "  Building wheel for sklearn (setup.py) ... \u001B[?25ldone\r\n",
      "\u001B[?25h  Created wheel for sklearn: filename=sklearn-0.0-py2.py3-none-any.whl size=1309 sha256=1bf3e2c22329f4c6d156e69c14468b4fb7120822be12395629724736c009d279\r\n",
      "  Stored in directory: /home/jovyan/.cache/pip/wheels/e4/7b/98/b6466d71b8d738a0c547008b9eb39bf8676d1ff6ca4b22af1c\r\n",
      "Successfully built sklearn\r\n",
      "Installing collected packages: sklearn\r\n",
      "Successfully installed sklearn-0.0\r\n"
     ]
    }
   ],
   "source": [
    "!pip install nltk==3.6.5\n",
    "!pip install sklearn==0.0"
   ]
  },
  {
   "cell_type": "code",
   "execution_count": 2,
   "id": "485c0034",
   "metadata": {
    "pycharm": {
     "name": "#%%\n"
    },
    "trusted": false
   },
   "outputs": [],
   "source": [
    "from pyspark.sql import SparkSession\n",
    "from pyspark.sql.functions import col, udf\n",
    "from pyspark.sql.types import StringType\n",
    "import string\n",
    "from nltk.stem.porter import PorterStemmer\n",
    "from sklearn.feature_extraction.text import ENGLISH_STOP_WORDS\n",
    "from pyspark.sql.functions import percent_rank\n",
    "from pyspark.sql import Window\n",
    "from pyspark.ml.feature import CountVectorizer, IDF, Tokenizer"
   ]
  },
  {
   "cell_type": "code",
   "execution_count": 3,
   "id": "cca16acf",
   "metadata": {
    "trusted": false
   },
   "outputs": [
    {
     "name": "stderr",
     "output_type": "stream",
     "text": [
      "WARNING: An illegal reflective access operation has occurred\n",
      "WARNING: Illegal reflective access by org.apache.spark.unsafe.Platform (file:/usr/local/spark-3.2.0-bin-hadoop3.2/jars/spark-unsafe_2.12-3.2.0.jar) to constructor java.nio.DirectByteBuffer(long,int)\n",
      "WARNING: Please consider reporting this to the maintainers of org.apache.spark.unsafe.Platform\n",
      "WARNING: Use --illegal-access=warn to enable warnings of further illegal reflective access operations\n",
      "WARNING: All illegal access operations will be denied in a future release\n"
     ]
    },
    {
     "name": "stdout",
     "output_type": "stream",
     "text": [
      ":: loading settings :: url = jar:file:/usr/local/spark-3.2.0-bin-hadoop3.2/jars/ivy-2.5.0.jar!/org/apache/ivy/core/settings/ivysettings.xml\n"
     ]
    },
    {
     "name": "stderr",
     "output_type": "stream",
     "text": [
      "Ivy Default Cache set to: /home/jovyan/.ivy2/cache\n",
      "The jars for the packages stored in: /home/jovyan/.ivy2/jars\n",
      "org.mongodb.spark#mongo-spark-connector_2.12 added as a dependency\n",
      ":: resolving dependencies :: org.apache.spark#spark-submit-parent-39cb8b5b-c799-4963-9f58-e9ebc6bb29fb;1.0\n",
      "\tconfs: [default]\n",
      "\tfound org.mongodb.spark#mongo-spark-connector_2.12;3.0.1 in central\n",
      "\tfound org.mongodb#mongodb-driver-sync;4.0.5 in central\n",
      "\tfound org.mongodb#bson;4.0.5 in central\n",
      "\tfound org.mongodb#mongodb-driver-core;4.0.5 in central\n",
      "downloading https://repo1.maven.org/maven2/org/mongodb/spark/mongo-spark-connector_2.12/3.0.1/mongo-spark-connector_2.12-3.0.1.jar ...\n",
      "\t[SUCCESSFUL ] org.mongodb.spark#mongo-spark-connector_2.12;3.0.1!mongo-spark-connector_2.12.jar (197ms)\n",
      "downloading https://repo1.maven.org/maven2/org/mongodb/mongodb-driver-sync/4.0.5/mongodb-driver-sync-4.0.5.jar ...\n",
      "\t[SUCCESSFUL ] org.mongodb#mongodb-driver-sync;4.0.5!mongodb-driver-sync.jar (62ms)\n",
      "downloading https://repo1.maven.org/maven2/org/mongodb/bson/4.0.5/bson-4.0.5.jar ...\n",
      "\t[SUCCESSFUL ] org.mongodb#bson;4.0.5!bson.jar (119ms)\n",
      "downloading https://repo1.maven.org/maven2/org/mongodb/mongodb-driver-core/4.0.5/mongodb-driver-core-4.0.5.jar ...\n",
      "\t[SUCCESSFUL ] org.mongodb#mongodb-driver-core;4.0.5!mongodb-driver-core.jar (177ms)\n",
      ":: resolution report :: resolve 8663ms :: artifacts dl 562ms\n",
      "\t:: modules in use:\n",
      "\torg.mongodb#bson;4.0.5 from central in [default]\n",
      "\torg.mongodb#mongodb-driver-core;4.0.5 from central in [default]\n",
      "\torg.mongodb#mongodb-driver-sync;4.0.5 from central in [default]\n",
      "\torg.mongodb.spark#mongo-spark-connector_2.12;3.0.1 from central in [default]\n",
      "\t---------------------------------------------------------------------\n",
      "\t|                  |            modules            ||   artifacts   |\n",
      "\t|       conf       | number| search|dwnlded|evicted|| number|dwnlded|\n",
      "\t---------------------------------------------------------------------\n",
      "\t|      default     |   4   |   4   |   4   |   0   ||   4   |   4   |\n",
      "\t---------------------------------------------------------------------\n",
      ":: retrieving :: org.apache.spark#spark-submit-parent-39cb8b5b-c799-4963-9f58-e9ebc6bb29fb\n",
      "\tconfs: [default]\n",
      "\t4 artifacts copied, 0 already retrieved (2728kB/10ms)\n",
      "21/12/18 17:52:56 WARN NativeCodeLoader: Unable to load native-hadoop library for your platform... using builtin-java classes where applicable\n",
      "Using Spark's default log4j profile: org/apache/spark/log4j-defaults.properties\n",
      "Setting default log level to \"WARN\".\n",
      "To adjust logging level use sc.setLogLevel(newLevel). For SparkR, use setLogLevel(newLevel).\n"
     ]
    },
    {
     "name": "stdout",
     "output_type": "stream",
     "text": [
      "<pyspark.sql.session.SparkSession object at 0x7f3b3dae29a0>\n"
     ]
    }
   ],
   "source": [
    "spark = SparkSession \\\n",
    "    .builder \\\n",
    "    .getOrCreate()\n",
    "print(spark)"
   ]
  },
  {
   "cell_type": "code",
   "execution_count": 4,
   "id": "636d21a4",
   "metadata": {
    "trusted": false
   },
   "outputs": [
    {
     "name": "stderr",
     "output_type": "stream",
     "text": [
      "                                                                                \r"
     ]
    },
    {
     "name": "stdout",
     "output_type": "stream",
     "text": [
      "+--------------------+------------------+----------+------------------+\n",
      "|                 _id|             close|      date|              open|\n",
      "+--------------------+------------------+----------+------------------+\n",
      "|{619f20a05fec62ac...|        61238.6222|2021-10-23| 60690.28731420007|\n",
      "|{619f20a15fec62ac...| 60694.00000650834|2021-10-22| 62196.96438572152|\n",
      "|{619f20a15fec62ac...|62298.093007718286|2021-10-21| 65961.04976056097|\n",
      "|{619f20a15fec62ac...| 65986.30293718613|2021-10-20|        64252.7263|\n",
      "|{619f20a15fec62ac...|        64217.0839|2021-10-19|        62020.0126|\n",
      "|{619f20a15fec62ac...|        61953.2331|2021-10-18| 61543.26469764322|\n",
      "|{619f20a15fec62ac...| 61582.25155249131|2021-10-17| 60867.89483798279|\n",
      "|{619f20a15fec62ac...| 60860.89183706596|2021-10-16| 61698.03021926293|\n",
      "|{619f20a15fec62ac...| 61526.33413298988|2021-10-15|57312.383791730215|\n",
      "|{619f20a15fec62ac...|  57351.7384160736|2021-10-14|        57385.8884|\n",
      "|{619f20a15fec62ac...|        57357.6067|2021-10-13| 56030.57101118398|\n",
      "|{619f20a15fec62ac...| 56035.85825462517|2021-10-12| 57399.22646992879|\n",
      "|{619f20a15fec62ac...| 57399.22646992879|2021-10-11|        54695.9213|\n",
      "|{619f20a15fec62ac...|        54689.5713|2021-10-10| 54926.17141243465|\n",
      "|{619f20a15fec62ac...| 55102.17221375232|2021-10-09|         53962.199|\n",
      "|{619f20a15fec62ac...|        53892.9323|2021-10-08| 53781.69777700771|\n",
      "|{619f20a15fec62ac...| 53809.13817103468|2021-10-07| 55315.91067459052|\n",
      "|{619f20a25fec62ac...| 55385.44519072514|2021-10-06| 51500.05703123766|\n",
      "|{619f20a25fec62ac...| 51545.04936807646|2021-10-05|        49273.7109|\n",
      "|{619f20a25fec62ac...|        49176.7613|2021-10-04|        48186.6468|\n",
      "+--------------------+------------------+----------+------------------+\n",
      "only showing top 20 rows\n",
      "\n",
      "+--------------------+----------+--------------------+\n",
      "|                 _id|      date|            headline|\n",
      "+--------------------+----------+--------------------+\n",
      "|{619f1214b82509cf...|2021-08-01|Family speaks out...|\n",
      "|{619f1215b82509cf...|2021-08-01|China invasion of...|\n",
      "|{619f1215b82509cf...|2021-08-01|US digital paymen...|\n",
      "|{619f1215b82509cf...|2021-08-01|‘Allow Malaysians...|\n",
      "|{619f1215b82509cf...|2021-08-01|Australia's After...|\n",
      "|{619f1215b82509cf...|2021-08-01|Americans blast A...|\n",
      "|{619f1215b82509cf...|2021-08-01|Turkey fires ‘lik...|\n",
      "|{619f1215b82509cf...|2021-08-01|Horoscope today, ...|\n",
      "|{619f1215b82509cf...|2021-08-01|Horoscope Today: ...|\n",
      "|{619f1215b82509cf...|2021-08-01|Horoscope Today: ...|\n",
      "|{619f146e97b10036...|2021-08-02|Govt decides to i...|\n",
      "|{619f146f97b10036...|2021-08-02|Markets Live, Tue...|\n",
      "|{619f146f97b10036...|2021-08-02|Afghan peace effo...|\n",
      "|{619f146f97b10036...|2021-08-02|Minor girl’s rape...|\n",
      "|{619f146f97b10036...|2021-08-02|John Cleese asks ...|\n",
      "|{619f146f97b10036...|2021-08-02|Afghan fighting r...|\n",
      "|{619f146f97b10036...|2021-08-02|Afghan President ...|\n",
      "|{619f146f97b10036...|2021-08-02|Inside actor Aree...|\n",
      "|{619f146f97b10036...|2021-08-02|Jack Dorsey outli...|\n",
      "|{619f146f97b10036...|2021-08-02|Age of Empires IV...|\n",
      "+--------------------+----------+--------------------+\n",
      "only showing top 20 rows\n",
      "\n"
     ]
    }
   ],
   "source": [
    "crypto_df = spark.read.format(\"mongo\").option(\"uri\",\"mongodb://mongo/seng550.crypto\").load()\n",
    "crypto_df.show()\n",
    "headers_df = spark.read.format(\"mongo\").option(\"uri\",\"mongodb://mongo/seng550.headers\").load()\n",
    "headers_df.show()"
   ]
  },
  {
   "cell_type": "code",
   "execution_count": 5,
   "id": "96b1e3a6",
   "metadata": {
    "trusted": false
   },
   "outputs": [
    {
     "name": "stdout",
     "output_type": "stream",
     "text": [
      "+----------+-------------------+\n",
      "|      date|             change|\n",
      "+----------+-------------------+\n",
      "|2021-10-23|  548.3348857999299|\n",
      "|2021-10-22|-1502.9643792131828|\n",
      "|2021-10-21| -3662.956752842685|\n",
      "|2021-10-20| 1733.5766371861318|\n",
      "|2021-10-19|  2197.071299999996|\n",
      "|2021-10-18|  409.9684023567752|\n",
      "|2021-10-17|   714.356714508518|\n",
      "|2021-10-16| -837.1383821969721|\n",
      "|2021-10-15|  4213.950341259668|\n",
      "|2021-10-14|   -34.149983926407|\n",
      "|2021-10-13| 1327.0356888160168|\n",
      "|2021-10-12|-1363.3682153036207|\n",
      "|2021-10-11|   2703.30516992879|\n",
      "|2021-10-10|-236.60011243464396|\n",
      "|2021-10-09|  1139.973213752317|\n",
      "|2021-10-08| 111.23452299229393|\n",
      "|2021-10-07|-1506.7725035558396|\n",
      "|2021-10-06|  3885.388159487484|\n",
      "|2021-10-05|  2271.338468076465|\n",
      "|2021-10-04|   990.114499999996|\n",
      "+----------+-------------------+\n",
      "only showing top 20 rows\n",
      "\n"
     ]
    }
   ],
   "source": [
    "# https://stackoverflow.com/questions/58823628/call-a-function-for-each-row-of-a-dataframe-in-pysparknon-pandas\n",
    "def get_change(close, open_):\n",
    "    return  close - open_\n",
    "spark.udf.register(\"change_udf\", get_change)\n",
    "# crypto_df.show()\n",
    "crypto_df = crypto_df.withColumn('change', get_change(col('close'), col('open'))).drop(\"close\",\"open\",\"_id\")\n",
    "crypto_df.show()"
   ]
  },
  {
   "cell_type": "code",
   "execution_count": 6,
   "id": "c2473bc9",
   "metadata": {
    "trusted": false
   },
   "outputs": [
    {
     "name": "stderr",
     "output_type": "stream",
     "text": [
      "[Stage 5:>                                                          (0 + 1) / 1]\r"
     ]
    },
    {
     "name": "stdout",
     "output_type": "stream",
     "text": [
      "+--------------------+----------+--------------------+--------------------+\n",
      "|                 _id|      date|            headline|      headline_clean|\n",
      "+--------------------+----------+--------------------+--------------------+\n",
      "|{619f1214b82509cf...|2021-08-01|Family speaks out...|famili speak raci...|\n",
      "|{619f1215b82509cf...|2021-08-01|China invasion of...|china invas taiwa...|\n",
      "|{619f1215b82509cf...|2021-08-01|US digital paymen...|us digit payment ...|\n",
      "|{619f1215b82509cf...|2021-08-01|‘Allow Malaysians...|‘allow malaysian ...|\n",
      "|{619f1215b82509cf...|2021-08-01|Australia's After...|australia afterpa...|\n",
      "|{619f1215b82509cf...|2021-08-01|Americans blast A...|american blast au...|\n",
      "|{619f1215b82509cf...|2021-08-01|Turkey fires ‘lik...|turkey fire ‘like...|\n",
      "|{619f1215b82509cf...|2021-08-01|Horoscope today, ...|horoscop today mo...|\n",
      "|{619f1215b82509cf...|2021-08-01|Horoscope Today: ...|horoscop today as...|\n",
      "|{619f1215b82509cf...|2021-08-01|Horoscope Today: ...|horoscop today as...|\n",
      "|{619f146e97b10036...|2021-08-02|Govt decides to i...|govt decid import...|\n",
      "|{619f146f97b10036...|2021-08-02|Markets Live, Tue...|market live tuesd...|\n",
      "|{619f146f97b10036...|2021-08-02|Afghan peace effo...|afghan peac effor...|\n",
      "|{619f146f97b10036...|2021-08-02|Minor girl’s rape...|minor girl’ rape ...|\n",
      "|{619f146f97b10036...|2021-08-02|John Cleese asks ...|john clees ask pl...|\n",
      "|{619f146f97b10036...|2021-08-02|Afghan fighting r...|afghan fight rage...|\n",
      "|{619f146f97b10036...|2021-08-02|Afghan President ...|afghan presid ash...|\n",
      "|{619f146f97b10036...|2021-08-02|Inside actor Aree...|insid actor areeb...|\n",
      "|{619f146f97b10036...|2021-08-02|Jack Dorsey outli...|jack dorsey outli...|\n",
      "|{619f146f97b10036...|2021-08-02|Age of Empires IV...|age empir iv late...|\n",
      "+--------------------+----------+--------------------+--------------------+\n",
      "only showing top 20 rows\n",
      "\n"
     ]
    },
    {
     "name": "stderr",
     "output_type": "stream",
     "text": [
      "                                                                                \r"
     ]
    }
   ],
   "source": [
    "def clean_header(header):\n",
    "    porter = PorterStemmer()\n",
    "    # headers are small, so local process is ok\n",
    "    header = header.strip()\n",
    "    if not header:\n",
    "        return ''\n",
    "    header = header.translate(str.maketrans('', '', string.punctuation))\n",
    "    return ' '.join(porter.stem(word) for word in header.split() if word not in ENGLISH_STOP_WORDS)\n",
    "udf_clean_header = udf(lambda s: clean_header(s), StringType())\n",
    "headers_df = headers_df.withColumn('headline_clean', udf_clean_header(col('headline')))\n",
    "headers_df.show()"
   ]
  },
  {
   "cell_type": "code",
   "execution_count": 7,
   "id": "165c387e",
   "metadata": {
    "trusted": false
   },
   "outputs": [
    {
     "name": "stdout",
     "output_type": "stream",
     "text": [
      "+----------+--------------------+-------------------+\n",
      "|      date|      headline_clean|  change_normalized|\n",
      "+----------+--------------------+-------------------+\n",
      "|2021-04-06|asian share eas t...|-100.27633574389984|\n",
      "|2021-04-06|patient wale uk r...|-100.27633574389984|\n",
      "|2021-04-06|dubai model dodg ...|-100.27633574389984|\n",
      "|2021-04-06|two deshaun watso...|-100.27633574389984|\n",
      "|2021-04-06|nasa say photo ra...|-100.27633574389984|\n",
      "|2021-04-06|arkansa governor ...|-100.27633574389984|\n",
      "|2021-04-06|derek chauvin tri...|-100.27633574389984|\n",
      "|2021-04-06|australia accus e...|-100.27633574389984|\n",
      "|2021-04-06|first covid vacci...|-100.27633574389984|\n",
      "|2021-04-06|california pacif ...|-100.27633574389984|\n",
      "|2021-08-30|australian urg sw...|-174.27393000000012|\n",
      "|2021-08-30|hurrican veteran ...|-174.27393000000012|\n",
      "|2021-08-30|california nation...|-174.27393000000012|\n",
      "|2021-08-30|govt doesn’t acce...|-174.27393000000012|\n",
      "|2021-08-30|whi serena willia...|-174.27393000000012|\n",
      "|2021-08-30|not singl afghani...|-174.27393000000012|\n",
      "|2021-08-30|jake paul call ‘r...|-174.27393000000012|\n",
      "|2021-08-30|inocul frustrat c...|-174.27393000000012|\n",
      "|2021-08-30|us center diseas ...|-174.27393000000012|\n",
      "|2021-08-30|market live tuesd...|-174.27393000000012|\n",
      "+----------+--------------------+-------------------+\n",
      "only showing top 20 rows\n",
      "\n"
     ]
    }
   ],
   "source": [
    "date_count_df = headers_df.groupby('date').count()\n",
    "crypto_headline_df = crypto_df.join(headers_df, on='date')\\\n",
    "    .join(date_count_df.withColumnRenamed('count', 'date_count'), on='date')\\\n",
    "    .withColumn('change_normalized', col('change') / col('date_count'))\\\n",
    "    .select('date', 'headline_clean', 'change_normalized')\n",
    "crypto_headline_df.show()"
   ]
  },
  {
   "cell_type": "code",
   "execution_count": 8,
   "id": "2d604cb0",
   "metadata": {
    "trusted": false
   },
   "outputs": [
    {
     "name": "stderr",
     "output_type": "stream",
     "text": [
      "21/12/18 17:53:07 WARN WindowExec: No Partition Defined for Window operation! Moving all data to a single partition, this can cause serious performance degradation.\n",
      "[Stage 18:====================================================> (193 + 7) / 200]\r"
     ]
    },
    {
     "name": "stdout",
     "output_type": "stream",
     "text": [
      "+--------------------+------------------+\n",
      "|      headline_clean| change_normalized|\n",
      "+--------------------+------------------+\n",
      "|black amazon exec...|444.88668289060007|\n",
      "|jeff bezo versu m...|444.88668289060007|\n",
      "|michael gudinski ...|444.88668289060007|\n",
      "|new revolutionari...|444.88668289060007|\n",
      "|ladi gaga dog wal...|444.88668289060007|\n",
      "|studi assess caus...|444.88668289060007|\n",
      "|seahawk qb russel...|444.88668289060007|\n",
      "|call perman reope...|444.88668289060007|\n",
      "|an insan blurri t...|444.88668289060007|\n",
      "|one hin leong fou...|444.88668289060007|\n",
      "|white hous pull n...|-134.4387735297998|\n",
      "|is pfizer covid v...|-134.4387735297998|\n",
      "|hilaria alec bald...|-134.4387735297998|\n",
      "|gov abbott execut...|-134.4387735297998|\n",
      "|risk breast cance...|-134.4387735297998|\n",
      "|texa governor lif...|-134.4387735297998|\n",
      "|covid19 vaccin al...|-134.4387735297998|\n",
      "|report suggest ro...|-134.4387735297998|\n",
      "|who is meghan mar...|-134.4387735297998|\n",
      "|rio tinto chairma...|-134.4387735297998|\n",
      "+--------------------+------------------+\n",
      "only showing top 20 rows\n",
      "\n",
      "+--------------------+------------------+\n",
      "|      headline_clean| change_normalized|\n",
      "+--------------------+------------------+\n",
      "|britney spears’ d...|        -578.66247|\n",
      "|leylah fernandez ...|        -578.66247|\n",
      "|taliban air scatt...|        -578.66247|\n",
      "|texa abort ‘whist...|        -578.66247|\n",
      "|new sharktooth di...|        -578.66247|\n",
      "|covid19 huge vacc...|        -578.66247|\n",
      "|samsung galaxi no...|        -578.66247|\n",
      "|in flood manvil n...|        -578.66247|\n",
      "|morn brief top st...|        -578.66247|\n",
      "|britney spear fat...|        -578.66247|\n",
      "|how support a fri...|-80.53629999999976|\n",
      "|tropic storm mind...|-80.53629999999976|\n",
      "|pediatr covid cas...|-80.53629999999976|\n",
      "|mcconnel send lot...|-80.53629999999976|\n",
      "|taliban cabinet i...|-80.53629999999976|\n",
      "|karnal stir mirro...|-80.53629999999976|\n",
      "|air new zealand a...|-80.53629999999976|\n",
      "|labor depart tout...|-80.53629999999976|\n",
      "|covid19 breakthro...|-80.53629999999976|\n",
      "|scott morrison se...|-80.53629999999976|\n",
      "+--------------------+------------------+\n",
      "only showing top 20 rows\n",
      "\n"
     ]
    },
    {
     "name": "stderr",
     "output_type": "stream",
     "text": [
      "                                                                                \r"
     ]
    }
   ],
   "source": [
    "# method 1 https://stackoverflow.com/a/51773836, can only be done on 1 partition\n",
    "\n",
    "# assign ranks\n",
    "# TODO better method to avoid this problem - if we do random splits it might be better? \n",
    "split_rank_df = crypto_headline_df\\\n",
    "    .withColumn(\"rank\", percent_rank().over(Window.partitionBy().orderBy(\"date\")))\\\n",
    "    .drop('date')\\\n",
    "    .cache()\n",
    "# split\n",
    "# X_train = df.where(\"rank <= .8\").drop(\"rank\",\"change\")\n",
    "# X_train.show()\n",
    "# X_test = df.where(\"rank > .8\").drop(\"rank\",\"change\")\n",
    "# X_test.show()\n",
    "# y_train = df.where(\"rank <= .8\").drop(\"rank\",\"clean_headline\")\n",
    "# y_train.show()\n",
    "# y_test = df.where(\"rank > .8\").drop(\"rank\",\"clean_headline\")\n",
    "# y_test.show()\n",
    "train_df = split_rank_df.where(\"rank <= .8\").drop(\"rank\")\n",
    "train_df.show()\n",
    "test_df = split_rank_df.where(\"rank > .8\").drop(\"rank\")\n",
    "test_df.show()\n",
    "\n",
    "# method 2 https://stackoverflow.com/a/53193549, needs the number of dates fed in to split\n",
    "# from pyspark.ml.feature import StringIndexer\n",
    "\n",
    "# stringIndexer = StringIndexer(inputCol=\"date\", outputCol=\"index\")\n",
    "# model = stringIndexer.fit(headers_df)\n",
    "# headers_df = model.transform(headers_df).withColumn(\"index\", col(\"index\").cast(\"int\"))\n",
    "\n",
    "# headers_df.show()"
   ]
  },
  {
   "cell_type": "code",
   "execution_count": 9,
   "id": "395aba77",
   "metadata": {
    "pycharm": {
     "name": "#%%\n"
    },
    "trusted": false
   },
   "outputs": [],
   "source": [
    "class TfidfModel:\n",
    "    def __init__(self, tokenizer, cv_model, idf_model):\n",
    "        self.tokenizer = tokenizer\n",
    "        self.cv_model = cv_model\n",
    "        self.idf_model = idf_model\n",
    "\n",
    "tfidf_comp_prefix = 'kfwsxy'\n",
    "\n",
    "def fit_tfidf_model(df, input_col, output_col):\n",
    "    tokenizer = Tokenizer(inputCol=input_col, outputCol=f'{tfidf_comp_prefix}_words')\n",
    "    words_data = tokenizer.transform(df)\n",
    "\n",
    "    cv = CountVectorizer(inputCol=f'{tfidf_comp_prefix}_words', outputCol=f'{tfidf_comp_prefix}_raw')\n",
    "    cv_model = cv.fit(words_data)\n",
    "\n",
    "    featurized_data = cv_model.transform(words_data)\n",
    "\n",
    "    idf = IDF(inputCol=f'{tfidf_comp_prefix}_raw', outputCol=output_col)\n",
    "    idf_model = idf.fit(featurized_data)\n",
    "\n",
    "    return TfidfModel(tokenizer, cv_model, idf_model)\n",
    "\n",
    "tfidf_model = fit_tfidf_model(train_df, 'headline_clean', 'headline_features')"
   ]
  },
  {
   "cell_type": "code",
   "execution_count": 10,
   "id": "454786b7",
   "metadata": {
    "pycharm": {
     "name": "#%%\n"
    },
    "trusted": false
   },
   "outputs": [
    {
     "name": "stdout",
     "output_type": "stream",
     "text": [
      "+------------------+--------------------+\n",
      "| change_normalized|   headline_features|\n",
      "+------------------+--------------------+\n",
      "|444.88668289060007|(5604,[229,253,27...|\n",
      "|444.88668289060007|(5604,[169,843,92...|\n",
      "|444.88668289060007|(5604,[24,156,228...|\n",
      "|444.88668289060007|(5604,[2,1093,118...|\n",
      "|444.88668289060007|(5604,[32,136,143...|\n",
      "|444.88668289060007|(5604,[48,437,470...|\n",
      "|444.88668289060007|(5604,[237,546,68...|\n",
      "|444.88668289060007|(5604,[0,27,362,2...|\n",
      "|444.88668289060007|(5604,[346,393,87...|\n",
      "|444.88668289060007|(5604,[328,616,11...|\n",
      "|-134.4387735297998|(5604,[116,239,32...|\n",
      "|-134.4387735297998|(5604,[0,4,20,135...|\n",
      "|-134.4387735297998|(5604,[96,102,145...|\n",
      "|-134.4387735297998|(5604,[126,140,16...|\n",
      "|-134.4387735297998|(5604,[9,102,128,...|\n",
      "|-134.4387735297998|(5604,[30,49,115,...|\n",
      "|-134.4387735297998|(5604,[0,1,5,220,...|\n",
      "|-134.4387735297998|(5604,[11,54,149,...|\n",
      "|-134.4387735297998|(5604,[135,149,41...|\n",
      "|-134.4387735297998|(5604,[343,1003,1...|\n",
      "+------------------+--------------------+\n",
      "only showing top 20 rows\n",
      "\n",
      "+------------------+--------------------+\n",
      "| change_normalized|   headline_features|\n",
      "+------------------+--------------------+\n",
      "|        -578.66247|(5604,[150,221,38...|\n",
      "|        -578.66247|(5604,[7,49,78,15...|\n",
      "|        -578.66247|(5604,[142,187,27...|\n",
      "|        -578.66247|(5604,[298,456,14...|\n",
      "|        -578.66247|(5604,[2,327,778,...|\n",
      "|        -578.66247|(5604,[0,1,25,49,...|\n",
      "|        -578.66247|(5604,[14,463,495...|\n",
      "|        -578.66247|(5604,[5,173,196,...|\n",
      "|        -578.66247|(5604,[6,30,130,2...|\n",
      "|        -578.66247|(5604,[150,380,39...|\n",
      "|-80.53629999999976|(5604,[30,34,46,8...|\n",
      "|-80.53629999999976|(5604,[275,435,14...|\n",
      "|-80.53629999999976|(5604,[3,4,19,35,...|\n",
      "|-80.53629999999976|(5604,[315,372,64...|\n",
      "|-80.53629999999976|(5604,[85,187,308...|\n",
      "|-80.53629999999976|(5604,[1013,5131]...|\n",
      "|-80.53629999999976|(5604,[2,97,147,2...|\n",
      "|-80.53629999999976|(5604,[1968,3172,...|\n",
      "|-80.53629999999976|(5604,[1,300,1366...|\n",
      "|-80.53629999999976|(5604,[1,23,68,15...|\n",
      "+------------------+--------------------+\n",
      "only showing top 20 rows\n",
      "\n"
     ]
    }
   ],
   "source": [
    "def tfidf_vectorize(df, tfidf_model):\n",
    "    words_data = tfidf_model.tokenizer.transform(df)\n",
    "    featurized_data = tfidf_model.cv_model.transform(words_data)\n",
    "    res_df = tfidf_model.idf_model.transform(featurized_data)\n",
    "    return res_df\\\n",
    "        .drop(f'{tfidf_comp_prefix}_words')\\\n",
    "        .drop(f'{tfidf_comp_prefix}_raw').drop('headline_clean')\n",
    "\n",
    "vectorized_train_df = tfidf_vectorize(train_df, tfidf_model)\n",
    "vectorized_test_df = tfidf_vectorize(test_df, tfidf_model)\n",
    "\n",
    "vectorized_train_df.show()\n",
    "vectorized_test_df.show()"
   ]
  },
  {
   "cell_type": "code",
   "execution_count": 11,
   "id": "1a5995c1",
   "metadata": {
    "trusted": false
   },
   "outputs": [
    {
     "name": "stderr",
     "output_type": "stream",
     "text": [
      "21/12/18 17:53:13 WARN InstanceBuilder$NativeBLAS: Failed to load implementation from:dev.ludovic.netlib.blas.JNIBLAS\n",
      "21/12/18 17:53:13 WARN InstanceBuilder$NativeBLAS: Failed to load implementation from:dev.ludovic.netlib.blas.ForeignLinkerBLAS\n",
      "21/12/18 17:53:13 WARN BLAS: Failed to load implementation from: com.github.fommil.netlib.NativeSystemBLAS\n",
      "21/12/18 17:53:13 WARN BLAS: Failed to load implementation from: com.github.fommil.netlib.NativeRefBLAS\n"
     ]
    }
   ],
   "source": [
    "from pyspark.ml.regression import LinearRegression\n",
    "lr = LinearRegression()\n",
    "lr.setFeaturesCol(\"headline_features\")\n",
    "lr.setLabelCol(\"change_normalized\")\n",
    "model = lr.fit(vectorized_train_df)\n"
   ]
  },
  {
   "cell_type": "code",
   "execution_count": 12,
   "id": "7fa4f3a1",
   "metadata": {
    "trusted": false
   },
   "outputs": [
    {
     "name": "stdout",
     "output_type": "stream",
     "text": [
      "Training results: MAE:0.33726 rMSE:4.81186\n",
      "Test results: MAE:197.88501 rMSE:257.37313\n"
     ]
    }
   ],
   "source": [
    "summary = model.evaluate(vectorized_train_df)\n",
    "mae = summary.meanAbsoluteError\n",
    "rmse = summary.rootMeanSquaredError\n",
    "print(f'Training results: MAE:{mae:.5f} rMSE:{rmse:.5f}')\n",
    "summary = model.evaluate(vectorized_test_df)\n",
    "mae = summary.meanAbsoluteError\n",
    "rmse = summary.rootMeanSquaredError\n",
    "print(f'Test results: MAE:{mae:.5f} rMSE:{rmse:.5f}')"
   ]
  },
  {
   "cell_type": "code",
   "execution_count": 13,
   "outputs": [
    {
     "name": "stderr",
     "output_type": "stream",
     "text": [
      "21/12/18 17:53:51 WARN BlockManager: Asked to remove block broadcast_5636_piece0, which does not exist\n",
      "21/12/18 17:53:51 WARN BlockManager: Asked to remove block broadcast_5636, which does not exist\n"
     ]
    }
   ],
   "source": [
    "from pyspark.ml.regression import LinearRegression\n",
    "from pyspark.ml.evaluation import RegressionEvaluator\n",
    "from pyspark.ml import Pipeline\n",
    "from pyspark.ml.tuning import CrossValidator, ParamGridBuilder\n",
    "import numpy as np\n",
    "\n",
    "featuresCol='headline_features'\n",
    "labelCol='change_normalized'\n",
    "\n",
    "regParams = np.linspace(1000,3000,101)\n",
    "\n",
    "lr = LinearRegression(\n",
    "    elasticNetParam=0,\n",
    "    featuresCol=featuresCol,\n",
    "    labelCol=labelCol)\n",
    "\n",
    "pipeline = Pipeline(stages=[lr])\n",
    "\n",
    "paramGrid = ParamGridBuilder()\\\n",
    "    .addGrid(lr.regParam, regParams)\\\n",
    "    .build()\n",
    "\n",
    "evaluator = RegressionEvaluator(labelCol=labelCol)\n",
    "\n",
    "crossval = CrossValidator(estimator=pipeline,\n",
    "                          estimatorParamMaps=paramGrid,\n",
    "                          evaluator=evaluator,\n",
    "                          numFolds=4,\n",
    "                          parallelism=8)\n",
    "\n",
    "cvModel = crossval.fit(vectorized_train_df)\n",
    "\n",
    "prediction = cvModel.transform(vectorized_test_df)"
   ],
   "metadata": {
    "collapsed": false,
    "pycharm": {
     "name": "#%%\n"
    },
    "trusted": false
   },
   "id": "c66c2429"
  },
  {
   "cell_type": "code",
   "execution_count": 14,
   "outputs": [
    {
     "name": "stdout",
     "output_type": "stream",
     "text": [
      "+------------------+--------------------+-------------------+\n",
      "| change_normalized|   headline_features|         prediction|\n",
      "+------------------+--------------------+-------------------+\n",
      "|        -578.66247|(5604,[150,221,38...| 5.1178503398442245|\n",
      "|        -578.66247|(5604,[7,49,78,15...| -50.09563633744905|\n",
      "|        -578.66247|(5604,[142,187,27...|-13.250387700247888|\n",
      "|        -578.66247|(5604,[298,456,14...|  47.49994060159642|\n",
      "|        -578.66247|(5604,[2,327,778,...| 14.168924804608835|\n",
      "|        -578.66247|(5604,[0,1,25,49,...|-13.021742978573545|\n",
      "|        -578.66247|(5604,[14,463,495...| -9.703466922971057|\n",
      "|        -578.66247|(5604,[5,173,196,...| -23.91646351065781|\n",
      "|        -578.66247|(5604,[6,30,130,2...| -7.159288646623597|\n",
      "|        -578.66247|(5604,[150,380,39...|  8.067012303424836|\n",
      "|-80.53629999999976|(5604,[30,34,46,8...|  45.69135878355988|\n",
      "|-80.53629999999976|(5604,[275,435,14...|-13.325423725935607|\n",
      "|-80.53629999999976|(5604,[3,4,19,35,...|   78.4133359987304|\n",
      "|-80.53629999999976|(5604,[315,372,64...| -41.60584426828841|\n",
      "|-80.53629999999976|(5604,[85,187,308...|-24.038866370401163|\n",
      "|-80.53629999999976|(5604,[1013,5131]...|  7.707518550809837|\n",
      "|-80.53629999999976|(5604,[2,97,147,2...|-4.7241893782146755|\n",
      "|-80.53629999999976|(5604,[1968,3172,...| 20.106269387234732|\n",
      "|-80.53629999999976|(5604,[1,300,1366...|  3.139970478181592|\n",
      "|-80.53629999999976|(5604,[1,23,68,15...|  24.99370162357325|\n",
      "+------------------+--------------------+-------------------+\n",
      "only showing top 20 rows\n",
      "\n"
     ]
    }
   ],
   "source": "prediction.show()",
   "metadata": {
    "collapsed": false,
    "pycharm": {
     "name": "#%%\n"
    },
    "trusted": false
   },
   "id": "8bf70b7c"
  },
  {
   "cell_type": "code",
   "execution_count": 15,
   "outputs": [
    {
     "data": {
      "text/plain": "<Figure size 432x288 with 1 Axes>",
      "image/png": "[encoded data removed]"
     },
     "metadata": {
      "needs_background": "light"
     },
     "output_type": "display_data"
    }
   ],
   "source": "import pandas as pd\nx_label = 'λ'\ny_label = 'Average ' + evaluator.getMetricName()\ntune_result_df = pd.DataFrame({\n    x_label: regParams,\n    y_label: cvModel.avgMetrics})\\\n    .set_index(['λ'])\nplot = tune_result_df.plot.line(\n    title='Cross validation error by ridge regression λ parameter',\n    ylabel=y_label,\n    legend=False)",
   "metadata": {
    "collapsed": false,
    "pycharm": {
     "name": "#%%\n"
    },
    "trusted": false
   },
   "id": "5bba7334"
  }
 ],
 "metadata": {
  "kernelspec": {
   "display_name": "Python 3 (ipykernel)",
   "language": "python",
   "name": "python3"
  },
  "language_info": {
   "codemirror_mode": {
    "name": "ipython",
    "version": 3
   },
   "file_extension": ".py",
   "mimetype": "text/x-python",
   "name": "python",
   "nbconvert_exporter": "python",
   "pygments_lexer": "ipython3",
   "version": "3.9.7"
  }
 },
 "nbformat": 4,
 "nbformat_minor": 5
}