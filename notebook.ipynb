{
 "cells": [
  {
   "cell_type": "markdown",
   "id": "e19ae405",
   "metadata": {
    "pycharm": {
     "name": "#%% md\n"
    }
   },
   "source": [
    "# SENG 550 F2021 group 7 final project\n",
    "\n",
    "### Members\n",
    "- Jean-David Rousseau, 10157955\n",
    "- Victor Sanchez Alarcon, 30054425\n",
    "- Shamez Meghji, 30055991\n",
    "- Owen Troke-Billard, 30046207\n",
    "\n",
    "### Notebook contents\n",
    "1. Dependencies\n",
    "2. Import data\n",
    "3. Clean data\n",
    "4. Train model\n",
    "5. Results"
   ]
  },
  {
   "cell_type": "markdown",
   "id": "2baa513a",
   "metadata": {},
   "source": [
    "## 1. Dependencies\n",
    "\n",
    "Install required PIP packages."
   ]
  },
  {
   "cell_type": "code",
   "execution_count": 1,
   "id": "cd43ae7a",
   "metadata": {
    "pycharm": {
     "name": "#%%\n"
    },
    "trusted": false
   },
   "outputs": [
    {
     "name": "stdout",
     "output_type": "stream",
     "text": [
      "Requirement already satisfied: nltk==3.6.5 in /opt/conda/lib/python3.9/site-packages (3.6.5)\r\n",
      "Requirement already satisfied: joblib in /opt/conda/lib/python3.9/site-packages (from nltk==3.6.5) (1.1.0)\r\n",
      "Requirement already satisfied: regex>=2021.8.3 in /opt/conda/lib/python3.9/site-packages (from nltk==3.6.5) (2021.11.10)\r\n",
      "Requirement already satisfied: tqdm in /opt/conda/lib/python3.9/site-packages (from nltk==3.6.5) (4.62.3)\r\n",
      "Requirement already satisfied: click in /opt/conda/lib/python3.9/site-packages (from nltk==3.6.5) (8.0.3)\r\n",
      "Requirement already satisfied: sklearn==0.0 in /opt/conda/lib/python3.9/site-packages (0.0)\r\n",
      "Requirement already satisfied: scikit-learn in /opt/conda/lib/python3.9/site-packages (from sklearn==0.0) (1.0.1)\r\n",
      "Requirement already satisfied: scipy>=1.1.0 in /opt/conda/lib/python3.9/site-packages (from scikit-learn->sklearn==0.0) (1.7.2)\r\n",
      "Requirement already satisfied: joblib>=0.11 in /opt/conda/lib/python3.9/site-packages (from scikit-learn->sklearn==0.0) (1.1.0)\r\n",
      "Requirement already satisfied: numpy>=1.14.6 in /opt/conda/lib/python3.9/site-packages (from scikit-learn->sklearn==0.0) (1.20.3)\r\n",
      "Requirement already satisfied: threadpoolctl>=2.0.0 in /opt/conda/lib/python3.9/site-packages (from scikit-learn->sklearn==0.0) (3.0.0)\r\n"
     ]
    }
   ],
   "source": [
    "!pip install nltk==3.6.5\n",
    "!pip install sklearn==0.0"
   ]
  },
  {
   "cell_type": "markdown",
   "id": "11b80301",
   "metadata": {
    "pycharm": {
     "name": "#%% md\n"
    }
   },
   "source": [
    "Import dependencies."
   ]
  },
  {
   "cell_type": "code",
   "execution_count": 2,
   "id": "485c0034",
   "metadata": {
    "pycharm": {
     "name": "#%%\n"
    },
    "trusted": false
   },
   "outputs": [],
   "source": [
    "import string\n",
    "import numpy as np\n",
    "import pandas as pd\n",
    "from nltk.stem.porter import PorterStemmer\n",
    "from sklearn.feature_extraction.text import ENGLISH_STOP_WORDS\n",
    "from pyspark.sql import SparkSession\n",
    "from pyspark.sql.functions import col, udf, pow, abs\n",
    "from pyspark.sql.types import StringType\n",
    "from pyspark.sql.functions import percent_rank\n",
    "from pyspark.sql import Window\n",
    "from pyspark.ml import Pipeline\n",
    "from pyspark.ml.feature import CountVectorizer, IDF, Tokenizer\n",
    "from pyspark.ml.regression import LinearRegression\n",
    "from pyspark.ml.evaluation import RegressionEvaluator\n",
    "from pyspark.ml.tuning import CrossValidator, ParamGridBuilder"
   ]
  },
  {
   "cell_type": "markdown",
   "id": "ff1e256c",
   "metadata": {
    "pycharm": {
     "name": "#%% md\n"
    }
   },
   "source": [
    "Initialize Spark session."
   ]
  },
  {
   "cell_type": "code",
   "execution_count": 3,
   "id": "cca16acf",
   "metadata": {
    "trusted": false
   },
   "outputs": [
    {
     "name": "stderr",
     "output_type": "stream",
     "text": [
      "WARNING: An illegal reflective access operation has occurred\n",
      "WARNING: Illegal reflective access by org.apache.spark.unsafe.Platform (file:/usr/local/spark-3.2.0-bin-hadoop3.2/jars/spark-unsafe_2.12-3.2.0.jar) to constructor java.nio.DirectByteBuffer(long,int)\n",
      "WARNING: Please consider reporting this to the maintainers of org.apache.spark.unsafe.Platform\n",
      "WARNING: Use --illegal-access=warn to enable warnings of further illegal reflective access operations\n",
      "WARNING: All illegal access operations will be denied in a future release\n",
      "Ivy Default Cache set to: /home/jovyan/.ivy2/cache\n",
      "The jars for the packages stored in: /home/jovyan/.ivy2/jars\n",
      "org.mongodb.spark#mongo-spark-connector_2.12 added as a dependency\n",
      ":: resolving dependencies :: org.apache.spark#spark-submit-parent-bafc8268-8d77-43d5-a488-9833f059ee7a;1.0\n",
      "\tconfs: [default]\n"
     ]
    },
    {
     "name": "stdout",
     "output_type": "stream",
     "text": [
      ":: loading settings :: url = jar:file:/usr/local/spark-3.2.0-bin-hadoop3.2/jars/ivy-2.5.0.jar!/org/apache/ivy/core/settings/ivysettings.xml\n"
     ]
    },
    {
     "name": "stderr",
     "output_type": "stream",
     "text": [
      "\tfound org.mongodb.spark#mongo-spark-connector_2.12;3.0.1 in central\n",
      "\tfound org.mongodb#mongodb-driver-sync;4.0.5 in central\n",
      "\tfound org.mongodb#bson;4.0.5 in central\n",
      "\tfound org.mongodb#mongodb-driver-core;4.0.5 in central\n",
      ":: resolution report :: resolve 217ms :: artifacts dl 9ms\n",
      "\t:: modules in use:\n",
      "\torg.mongodb#bson;4.0.5 from central in [default]\n",
      "\torg.mongodb#mongodb-driver-core;4.0.5 from central in [default]\n",
      "\torg.mongodb#mongodb-driver-sync;4.0.5 from central in [default]\n",
      "\torg.mongodb.spark#mongo-spark-connector_2.12;3.0.1 from central in [default]\n",
      "\t---------------------------------------------------------------------\n",
      "\t|                  |            modules            ||   artifacts   |\n",
      "\t|       conf       | number| search|dwnlded|evicted|| number|dwnlded|\n",
      "\t---------------------------------------------------------------------\n",
      "\t|      default     |   4   |   0   |   0   |   0   ||   4   |   0   |\n",
      "\t---------------------------------------------------------------------\n",
      ":: retrieving :: org.apache.spark#spark-submit-parent-bafc8268-8d77-43d5-a488-9833f059ee7a\n",
      "\tconfs: [default]\n",
      "\t0 artifacts copied, 4 already retrieved (0kB/5ms)\n",
      "21/12/19 04:41:41 WARN NativeCodeLoader: Unable to load native-hadoop library for your platform... using builtin-java classes where applicable\n",
      "Using Spark's default log4j profile: org/apache/spark/log4j-defaults.properties\n",
      "Setting default log level to \"WARN\".\n",
      "To adjust logging level use sc.setLogLevel(newLevel). For SparkR, use setLogLevel(newLevel).\n"
     ]
    }
   ],
   "source": [
    "spark = SparkSession \\\n",
    "    .builder \\\n",
    "    .getOrCreate()"
   ]
  },
  {
   "cell_type": "markdown",
   "id": "a7aff6e3",
   "metadata": {
    "pycharm": {
     "name": "#%% md\n"
    }
   },
   "source": [
    "## 2. Import data\n",
    "\n",
    "Load cryptocurrency price data from MongoDB."
   ]
  },
  {
   "cell_type": "code",
   "execution_count": 4,
   "id": "636d21a4",
   "metadata": {
    "trusted": false
   },
   "outputs": [
    {
     "name": "stdout",
     "output_type": "stream",
     "text": [
      "+--------------------+------------------+----------+-----------------+\n",
      "|                 _id|             close|      date|             open|\n",
      "+--------------------+------------------+----------+-----------------+\n",
      "|{619f20a05fec62ac...|        61238.6222|2021-10-23|60690.28731420007|\n",
      "|{619f20a15fec62ac...| 60694.00000650834|2021-10-22|62196.96438572152|\n",
      "|{619f20a15fec62ac...|62298.093007718286|2021-10-21|65961.04976056097|\n",
      "+--------------------+------------------+----------+-----------------+\n",
      "only showing top 3 rows\n",
      "\n"
     ]
    }
   ],
   "source": [
    "crypto_df = spark.read.format(\"mongo\").option(\"uri\",\"mongodb://mongo/seng550.crypto\").load()\n",
    "crypto_df.show(3)"
   ]
  },
  {
   "cell_type": "markdown",
   "id": "c7405198",
   "metadata": {
    "pycharm": {
     "name": "#%% md\n"
    }
   },
   "source": [
    "Load news headlines from MongoDB."
   ]
  },
  {
   "cell_type": "code",
   "execution_count": 5,
   "id": "ccf62dd9",
   "metadata": {
    "pycharm": {
     "name": "#%%\n"
    },
    "trusted": false
   },
   "outputs": [
    {
     "name": "stdout",
     "output_type": "stream",
     "text": [
      "+--------------------+----------+--------------------+\n",
      "|                 _id|      date|            headline|\n",
      "+--------------------+----------+--------------------+\n",
      "|{619f1214b82509cf...|2021-08-01|Family speaks out...|\n",
      "|{619f1215b82509cf...|2021-08-01|China invasion of...|\n",
      "|{619f1215b82509cf...|2021-08-01|US digital paymen...|\n",
      "+--------------------+----------+--------------------+\n",
      "only showing top 3 rows\n",
      "\n"
     ]
    }
   ],
   "source": [
    "headers_df = spark.read.format(\"mongo\").option(\"uri\",\"mongodb://mongo/seng550.headers\").load()\n",
    "headers_df.show(3)"
   ]
  },
  {
   "cell_type": "markdown",
   "id": "af92500b",
   "metadata": {
    "pycharm": {
     "name": "#%% md\n"
    }
   },
   "source": [
    "## 3. Clean data\n",
    "\n",
    "Compute the price change each day as a percentage."
   ]
  },
  {
   "cell_type": "code",
   "execution_count": 6,
   "id": "96b1e3a6",
   "metadata": {
    "trusted": false
   },
   "outputs": [
    {
     "name": "stdout",
     "output_type": "stream",
     "text": [
      "+--------------------+------------------+----------+-----------------+--------------------+\n",
      "|                 _id|             close|      date|             open|              change|\n",
      "+--------------------+------------------+----------+-----------------+--------------------+\n",
      "|{619f20a05fec62ac...|        61238.6222|2021-10-23|60690.28731420007|-0.00903496935120...|\n",
      "|{619f20a15fec62ac...| 60694.00000650834|2021-10-22|62196.96438572152| 0.02416459378776714|\n",
      "|{619f20a15fec62ac...|62298.093007718286|2021-10-21|65961.04976056097| 0.05553211730467056|\n",
      "+--------------------+------------------+----------+-----------------+--------------------+\n",
      "only showing top 3 rows\n",
      "\n"
     ]
    }
   ],
   "source": [
    "crypto_df = crypto_df.withColumn('change', 1 - (col('close') / col('open')))\n",
    "crypto_df.show(3)"
   ]
  },
  {
   "cell_type": "markdown",
   "id": "f77077e4",
   "metadata": {
    "pycharm": {
     "name": "#%% md\n"
    }
   },
   "source": [
    "Pre-process news headlines. Punctuation is removed. Stop words are removed. Words are stemmed."
   ]
  },
  {
   "cell_type": "code",
   "execution_count": 7,
   "outputs": [
    {
     "name": "stderr",
     "output_type": "stream",
     "text": [
      "[Stage 5:>                                                          (0 + 1) / 1]\r"
     ]
    },
    {
     "name": "stdout",
     "output_type": "stream",
     "text": [
      "+--------------------+----------+--------------------+--------------------+\n",
      "|                 _id|      date|            headline|      headline_clean|\n",
      "+--------------------+----------+--------------------+--------------------+\n",
      "|{619f1214b82509cf...|2021-08-01|Family speaks out...|famili speak raci...|\n",
      "|{619f1215b82509cf...|2021-08-01|China invasion of...|china invas taiwa...|\n",
      "|{619f1215b82509cf...|2021-08-01|US digital paymen...|us digit payment ...|\n",
      "+--------------------+----------+--------------------+--------------------+\n",
      "only showing top 3 rows\n",
      "\n"
     ]
    },
    {
     "name": "stderr",
     "output_type": "stream",
     "text": [
      "                                                                                \r"
     ]
    }
   ],
   "source": [
    "def clean_headline(headline):\n",
    "    # Headers are small, so local process is ok.\n",
    "    porter = PorterStemmer()\n",
    "    headline = headline.strip()\n",
    "    if not headline:\n",
    "        return ''\n",
    "    headline = headline.translate(str.maketrans('', '', string.punctuation))\n",
    "    return ' '.join(porter.stem(word) for word in headline.split() if word not in ENGLISH_STOP_WORDS)\n",
    "\n",
    "udf_clean_header = udf(lambda s: clean_headline(s), StringType())\n",
    "headers_df = headers_df.withColumn('headline_clean', udf_clean_header(col('headline')))\n",
    "headers_df.show(3)"
   ],
   "metadata": {
    "collapsed": false,
    "pycharm": {
     "name": "#%%\n"
    },
    "trusted": false
   },
   "id": "35486d87"
  },
  {
   "cell_type": "markdown",
   "id": "a607ff2f",
   "metadata": {
    "pycharm": {
     "name": "#%% md\n"
    }
   },
   "source": [
    "Distribute price changes evenly across news headlines each day.\n",
    "\n",
    "The training dataset does not attribute price changes to individual headlines. We approximate headline effects on price by attributing price changes to all headlines evenly. Distribution is done such that the product of all price changes attributed to individual headlines results in the original daily price change. Inaccuracies introduced by this approximation are mitigated by larger datasets."
   ]
  },
  {
   "cell_type": "code",
   "execution_count": 8,
   "id": "165c387e",
   "metadata": {
    "trusted": false
   },
   "outputs": [
    {
     "name": "stderr",
     "output_type": "stream",
     "text": [
      "                                                                                \r"
     ]
    },
    {
     "name": "stdout",
     "output_type": "stream",
     "text": [
      "+----------+--------------------+--------------------+\n",
      "|      date|      headline_clean|   change_normalized|\n",
      "+----------+--------------------+--------------------+\n",
      "|2021-04-06|asian share eas t...|0.001684018790797...|\n",
      "|2021-04-06|patient wale uk r...|0.001684018790797...|\n",
      "|2021-04-06|dubai model dodg ...|0.001684018790797...|\n",
      "+----------+--------------------+--------------------+\n",
      "only showing top 3 rows\n",
      "\n"
     ]
    },
    {
     "name": "stderr",
     "output_type": "stream",
     "text": [
      "                                                                                \r"
     ]
    }
   ],
   "source": [
    "date_count_df = headers_df.groupby('date').count()\n",
    "crypto_headline_df = crypto_df.join(headers_df, on='date')\\\n",
    "    .join(date_count_df.withColumnRenamed('count', 'date_count'), on='date')\\\n",
    "    .withColumn('change_normalized', pow(1 + col('change'), 1 / col('date_count')) - 1)\\\n",
    "    .select('date', 'headline_clean', 'change_normalized')\n",
    "crypto_headline_df.show(3)"
   ]
  },
  {
   "cell_type": "markdown",
   "id": "9282af9c",
   "metadata": {
    "pycharm": {
     "name": "#%% md\n"
    }
   },
   "source": [
    "## 4. Train model\n",
    "\n",
    "Split the dataset into 80% train and 20% test partitions. The model is trained on the training partition and evaluated on the test partition."
   ]
  },
  {
   "cell_type": "code",
   "execution_count": 9,
   "id": "2d604cb0",
   "metadata": {
    "trusted": false
   },
   "outputs": [],
   "source": [
    "train_fraction = 0.8\n",
    "test_fraction = 1 - train_fraction\n",
    "\n",
    "train_df, test_df = crypto_headline_df.randomSplit([train_fraction, test_fraction], seed=0)"
   ]
  },
  {
   "cell_type": "code",
   "execution_count": 10,
   "id": "51fe1ed9",
   "metadata": {
    "pycharm": {
     "name": "#%%\n"
    },
    "trusted": false
   },
   "outputs": [
    {
     "name": "stdout",
     "output_type": "stream",
     "text": [
      "+----------+--------------------+--------------------+\n",
      "|      date|      headline_clean|   change_normalized|\n",
      "+----------+--------------------+--------------------+\n",
      "|2021-03-01|an insan blurri t...|-0.01032963207099...|\n",
      "|2021-03-01|black amazon exec...|-0.01032963207099...|\n",
      "|2021-03-01|call perman reope...|-0.01032963207099...|\n",
      "+----------+--------------------+--------------------+\n",
      "only showing top 3 rows\n",
      "\n"
     ]
    }
   ],
   "source": [
    "train_df.show(3)"
   ]
  },
  {
   "cell_type": "code",
   "execution_count": 11,
   "id": "f0e46e78",
   "metadata": {
    "pycharm": {
     "name": "#%%\n"
    },
    "trusted": false
   },
   "outputs": [
    {
     "name": "stdout",
     "output_type": "stream",
     "text": [
      "+----------+--------------------+--------------------+\n",
      "|      date|      headline_clean|   change_normalized|\n",
      "+----------+--------------------+--------------------+\n",
      "|2021-03-03|7 addit death 542...|-0.00447802498691...|\n",
      "|2021-03-03|7 addit death 542...|-0.00447802498691...|\n",
      "|2021-03-03|fema open covid v...|-0.00447802498691...|\n",
      "+----------+--------------------+--------------------+\n",
      "only showing top 3 rows\n",
      "\n"
     ]
    }
   ],
   "source": [
    "test_df.show(3)"
   ]
  },
  {
   "cell_type": "markdown",
   "id": "57b27d51",
   "metadata": {
    "pycharm": {
     "name": "#%% md\n"
    }
   },
   "source": [
    "Fit a TF-IDF vectorizer to the train data. The TF-IDF vectorizer knows how to convert pre-processed text into a sparse vector of TF-IDF values based on a learned vocabulary. All terms and inverse document frequencies (IDFs) are established by the training data. The model does not learn new terms that are introduced after this stage."
   ]
  },
  {
   "cell_type": "code",
   "execution_count": 12,
   "id": "22aa943a",
   "metadata": {
    "pycharm": {
     "name": "#%%\n"
    },
    "trusted": false
   },
   "outputs": [],
   "source": [
    "class TfidfModel:\n",
    "    def __init__(self, tokenizer, cv_model, idf_model):\n",
    "        self.tokenizer = tokenizer\n",
    "        self.cv_model = cv_model\n",
    "        self.idf_model = idf_model\n",
    "\n",
    "# Use this prefix on temporary columns so they don't conflict with existing columns.\n",
    "tfidf_comp_prefix = 'kfwsxy'\n",
    "\n",
    "def fit_tfidf_model(df, input_col, output_col):\n",
    "    tokenizer = Tokenizer(inputCol=input_col, outputCol=f'{tfidf_comp_prefix}_words')\n",
    "    words_data = tokenizer.transform(df)\n",
    "\n",
    "    cv = CountVectorizer(inputCol=f'{tfidf_comp_prefix}_words', outputCol=f'{tfidf_comp_prefix}_raw')\n",
    "    cv_model = cv.fit(words_data)\n",
    "\n",
    "    featurized_data = cv_model.transform(words_data)\n",
    "\n",
    "    idf = IDF(inputCol=f'{tfidf_comp_prefix}_raw', outputCol=output_col)\n",
    "    idf_model = idf.fit(featurized_data)\n",
    "\n",
    "    return TfidfModel(tokenizer, cv_model, idf_model)\n",
    "\n",
    "def tfidf_vectorize(df, tfidf_model):\n",
    "    words_data = tfidf_model.tokenizer.transform(df)\n",
    "    featurized_data = tfidf_model.cv_model.transform(words_data)\n",
    "    res_df = tfidf_model.idf_model.transform(featurized_data)\n",
    "    return res_df\\\n",
    "        .drop(f'{tfidf_comp_prefix}_words')\\\n",
    "        .drop(f'{tfidf_comp_prefix}_raw').drop('headline_clean')\n",
    "\n",
    "tfidf_model = fit_tfidf_model(train_df, 'headline_clean', 'headline_features')"
   ]
  },
  {
   "cell_type": "markdown",
   "id": "01199b3f",
   "metadata": {
    "pycharm": {
     "name": "#%% md\n"
    }
   },
   "source": [
    "TF-IDF vectorize the training data. All headline terms will be encoded because the vectorizer vocabulary contains all training terms."
   ]
  },
  {
   "cell_type": "code",
   "execution_count": 13,
   "id": "454786b7",
   "metadata": {
    "pycharm": {
     "name": "#%%\n"
    },
    "trusted": false
   },
   "outputs": [
    {
     "name": "stdout",
     "output_type": "stream",
     "text": [
      "+----------+--------------------+--------------------+\n",
      "|      date|   change_normalized|   headline_features|\n",
      "+----------+--------------------+--------------------+\n",
      "|2021-03-01|-0.01032963207099...|(5599,[316,464,11...|\n",
      "|2021-03-01|-0.01032963207099...|(5599,[235,251,28...|\n",
      "|2021-03-01|-0.01032963207099...|(5599,[0,43,232,1...|\n",
      "+----------+--------------------+--------------------+\n",
      "only showing top 3 rows\n",
      "\n"
     ]
    }
   ],
   "source": [
    "vectorized_train_df = tfidf_vectorize(train_df, tfidf_model)\n",
    "vectorized_train_df.show(3)"
   ]
  },
  {
   "cell_type": "markdown",
   "id": "54eed701",
   "metadata": {
    "pycharm": {
     "name": "#%% md\n"
    }
   },
   "source": [
    "TF-IDF vectorize the test data. Headline terms not seen before will be dropped."
   ]
  },
  {
   "cell_type": "code",
   "execution_count": 14,
   "id": "575b35b4",
   "metadata": {
    "pycharm": {
     "name": "#%%\n"
    },
    "trusted": false
   },
   "outputs": [
    {
     "name": "stdout",
     "output_type": "stream",
     "text": [
      "+----------+--------------------+--------------------+\n",
      "|      date|   change_normalized|   headline_features|\n",
      "+----------+--------------------+--------------------+\n",
      "|2021-03-03|-0.00447802498691...|(5599,[1,2,3,9,15...|\n",
      "|2021-03-03|-0.00447802498691...|(5599,[1,2,3,9,15...|\n",
      "|2021-03-03|-0.00447802498691...|(5599,[0,4,44,739...|\n",
      "+----------+--------------------+--------------------+\n",
      "only showing top 3 rows\n",
      "\n"
     ]
    }
   ],
   "source": [
    "vectorized_test_df = tfidf_vectorize(test_df, tfidf_model)\n",
    "vectorized_test_df.show(3)"
   ]
  },
  {
   "cell_type": "markdown",
   "id": "aaf78cba",
   "metadata": {
    "pycharm": {
     "name": "#%% md\n"
    }
   },
   "source": [
    "Denote columns that contain raw features (TF-IDF vector), attributed affect on price, and predicted affect on price, respectively."
   ]
  },
  {
   "cell_type": "code",
   "execution_count": 15,
   "id": "344bd402",
   "metadata": {
    "pycharm": {
     "name": "#%%\n"
    },
    "trusted": false
   },
   "outputs": [],
   "source": [
    "features_col= 'headline_features'\n",
    "label_col= 'change_normalized'\n",
    "prediction_col = 'change_prediction'"
   ]
  },
  {
   "cell_type": "markdown",
   "id": "3f6c5aa0",
   "metadata": {
    "pycharm": {
     "name": "#%% md\n"
    }
   },
   "source": [
    "Fit a ridge regression model to the training data. The ridge λ hyperparameter is tuned by trying many possibilities and selecting the best. Cross validation is used to ensure an accurate performance measure is determined for each λ tested. The training data is further segmented into train and validation partitions on each cross validation k-fold.\n",
    "\n",
    "This cell runs very slowly. If you do not care about accuracy, set:\n",
    "- `num_folds = 2`\n",
    "- `num_lambda = 2`"
   ]
  },
  {
   "cell_type": "code",
   "execution_count": 16,
   "id": "3133db57",
   "metadata": {
    "pycharm": {
     "name": "#%%\n"
    },
    "trusted": false
   },
   "outputs": [
    {
     "name": "stderr",
     "output_type": "stream",
     "text": [
      "21/12/19 04:42:07 WARN InstanceBuilder$NativeBLAS: Failed to load implementation from:dev.ludovic.netlib.blas.JNIBLAS\n",
      "21/12/19 04:42:07 WARN InstanceBuilder$NativeBLAS: Failed to load implementation from:dev.ludovic.netlib.blas.ForeignLinkerBLAS\n",
      "21/12/19 04:42:08 WARN BLAS: Failed to load implementation from: com.github.fommil.netlib.NativeSystemBLAS\n",
      "21/12/19 04:42:08 WARN BLAS: Failed to load implementation from: com.github.fommil.netlib.NativeRefBLAS\n",
      "21/12/19 04:48:59 WARN BlockManager: Asked to remove block broadcast_4012_piece0, which does not exist\n",
      "21/12/19 04:48:59 WARN BlockManager: Asked to remove block broadcast_4012, which does not exist\n",
      "21/12/19 04:49:22 WARN BlockManager: Asked to remove block broadcast_4229_piece0, which does not exist\n",
      "21/12/19 04:50:05 WARN BlockManager: Asked to remove block broadcast_4668, which does not exist\n",
      "                                                                                \r"
     ]
    }
   ],
   "source": [
    "num_folds = 3\n",
    "num_lambda = 50\n",
    "\n",
    "reg_params = np.linspace(0.07, 0.10, num_lambda) \n",
    "\n",
    "lr_base = LinearRegression(\n",
    "    elasticNetParam=0,\n",
    "    featuresCol=features_col,\n",
    "    labelCol=label_col,\n",
    "    predictionCol=prediction_col)\n",
    "\n",
    "pipeline = Pipeline(stages=[lr_base])\n",
    "\n",
    "param_grid = ParamGridBuilder()\\\n",
    "    .addGrid(lr_base.regParam, reg_params)\\\n",
    "    .build()\n",
    "\n",
    "pipeline_evaluator = RegressionEvaluator(\n",
    "    labelCol=label_col,\n",
    "    predictionCol=prediction_col)\n",
    "\n",
    "cross_val = CrossValidator(\n",
    "    estimator=pipeline,\n",
    "    estimatorParamMaps=param_grid,\n",
    "    evaluator=pipeline_evaluator,\n",
    "    numFolds=num_folds,\n",
    "    parallelism=8)\n",
    "\n",
    "lr = cross_val.fit(vectorized_train_df)"
   ]
  },
  {
   "cell_type": "markdown",
   "id": "c62c1def",
   "metadata": {
    "pycharm": {
     "name": "#%% md\n"
    }
   },
   "source": [
    "Graph the performance of all ridge λ hyperparameters tested. The value yielding the lowest error is the best."
   ]
  },
  {
   "cell_type": "code",
   "execution_count": 17,
   "id": "3b289bc3",
   "metadata": {
    "pycharm": {
     "name": "#%%\n"
    },
    "trusted": false
   },
   "outputs": [
    {
     "data": {
      "text/plain": "<Figure size 432x288 with 1 Axes>",
      "image/png": "[encoded data removed]"
     },
     "metadata": {
      "needs_background": "light"
     },
     "output_type": "display_data"
    }
   ],
   "source": [
    "x_label = 'λ'\n",
    "y_label = 'Average ' + pipeline_evaluator.getMetricName()\n",
    "tune_result_df = pd.DataFrame({\n",
    "    x_label: reg_params,\n",
    "    y_label: lr.avgMetrics})\\\n",
    "    .set_index(['λ'])\n",
    "plot = tune_result_df.plot.line(\n",
    "    title='Cross validation error by ridge regression λ parameter',\n",
    "    ylabel=y_label,\n",
    "    legend=False)"
   ]
  },
  {
   "cell_type": "markdown",
   "id": "7f803dc8",
   "metadata": {
    "pycharm": {
     "name": "#%% md\n"
    }
   },
   "source": [
    "## 5. Results\n",
    "\n",
    "### Daily price change statistics"
   ]
  },
  {
   "cell_type": "code",
   "execution_count": 18,
   "id": "05f6d373",
   "metadata": {
    "pycharm": {
     "name": "#%%\n"
    },
    "trusted": false
   },
   "outputs": [
    {
     "name": "stdout",
     "output_type": "stream",
     "text": [
      "+-------+----------------------+\n",
      "|summary|change                |\n",
      "+-------+----------------------+\n",
      "|count  |301                   |\n",
      "|mean   |-0.0037206674963974834|\n",
      "|stddev |0.04336846404173201   |\n",
      "|min    |-0.18962753904801044  |\n",
      "|max    |0.13719500387926653   |\n",
      "+-------+----------------------+\n",
      "\n"
     ]
    }
   ],
   "source": [
    "crypto_df.describe('change').show(truncate=False)"
   ]
  },
  {
   "cell_type": "markdown",
   "source": [
    "### Daily price change percentiles"
   ],
   "metadata": {
    "collapsed": false,
    "pycharm": {
     "name": "#%% md\n"
    }
   }
  },
  {
   "cell_type": "code",
   "execution_count": 19,
   "outputs": [
    {
     "name": "stdout",
     "output_type": "stream",
     "text": [
      "+----------+--------------------+\n",
      "|percentile|change              |\n",
      "+----------+--------------------+\n",
      "|1.00      |0.13719500387926653 |\n",
      "|0.99      |0.10986854225982423 |\n",
      "|0.95      |0.06622526152319208 |\n",
      "|0.90      |0.04542700888832041 |\n",
      "|0.10      |-0.05851235330945315|\n",
      "|0.05      |-0.07710582175138714|\n",
      "|0.01      |-0.10008718462196198|\n",
      "|0.00      |-0.18962753904801044|\n",
      "+----------+--------------------+\n",
      "\n"
     ]
    }
   ],
   "source": [
    "percentiles = ['1.00', '0.99', '0.95', '0.90', '0.10', '0.05', '0.01', '0.00']\n",
    "percentile_changes = crypto_df.approxQuantile('change', list(map(lambda p: float(p), percentiles)), 0)\n",
    "spark.createDataFrame(zip(percentiles, percentile_changes), ['percentile', 'change']).show(truncate=False)"
   ],
   "metadata": {
    "collapsed": false,
    "pycharm": {
     "name": "#%%\n"
    }
   }
  },
  {
   "cell_type": "markdown",
   "id": "58b31862",
   "metadata": {
    "pycharm": {
     "name": "#%% md\n"
    }
   },
   "source": [
    "### Sample of predictions made with training data"
   ]
  },
  {
   "cell_type": "code",
   "execution_count": 20,
   "id": "9a10d205",
   "metadata": {
    "pycharm": {
     "name": "#%%\n"
    },
    "trusted": false
   },
   "outputs": [
    {
     "name": "stdout",
     "output_type": "stream",
     "text": [
      "+----------+--------------------+--------------------+--------------------+\n",
      "|      date|   change_normalized|   headline_features|   change_prediction|\n",
      "+----------+--------------------+--------------------+--------------------+\n",
      "|2021-03-01|-0.01032963207099...|(5599,[316,464,11...|-0.00271796614071...|\n",
      "|2021-03-01|-0.01032963207099...|(5599,[235,251,28...|-0.00137089218815...|\n",
      "|2021-03-01|-0.01032963207099...|(5599,[0,43,232,1...|-9.87853985665308E-4|\n",
      "+----------+--------------------+--------------------+--------------------+\n",
      "only showing top 3 rows\n",
      "\n"
     ]
    }
   ],
   "source": [
    "train_prediction_df = lr.transform(vectorized_train_df)\n",
    "train_prediction_df.show(3)"
   ]
  },
  {
   "cell_type": "markdown",
   "id": "ba0a3730",
   "metadata": {
    "pycharm": {
     "name": "#%% md\n"
    }
   },
   "source": [
    "### Sample of predictions made with test data"
   ]
  },
  {
   "cell_type": "code",
   "execution_count": 21,
   "id": "60d3f53e",
   "metadata": {
    "pycharm": {
     "name": "#%%\n"
    },
    "trusted": false
   },
   "outputs": [
    {
     "name": "stdout",
     "output_type": "stream",
     "text": [
      "+----------+--------------------+--------------------+--------------------+\n",
      "|      date|   change_normalized|   headline_features|   change_prediction|\n",
      "+----------+--------------------+--------------------+--------------------+\n",
      "|2021-03-03|-0.00447802498691...|(5599,[1,2,3,9,15...|-7.33125000111192...|\n",
      "|2021-03-03|-0.00447802498691...|(5599,[1,2,3,9,15...|-7.33125000111192...|\n",
      "|2021-03-03|-0.00447802498691...|(5599,[0,4,44,739...|-1.27294434857683...|\n",
      "+----------+--------------------+--------------------+--------------------+\n",
      "only showing top 3 rows\n",
      "\n"
     ]
    }
   ],
   "source": [
    "test_prediction_df = lr.transform(vectorized_test_df)\n",
    "test_prediction_df.show(3)"
   ]
  },
  {
   "cell_type": "markdown",
   "id": "f5081f33",
   "metadata": {
    "pycharm": {
     "name": "#%% md\n"
    }
   },
   "source": [
    "### Training errors"
   ]
  },
  {
   "cell_type": "code",
   "execution_count": 22,
   "id": "d8bae462",
   "metadata": {
    "pycharm": {
     "name": "#%%\n"
    },
    "trusted": false
   },
   "outputs": [
    {
     "name": "stdout",
     "output_type": "stream",
     "text": [
      "+------+---------------------+\n",
      "|metric|score                |\n",
      "+------+---------------------+\n",
      "|rmse  |0.0035367748094587296|\n",
      "|mse   |1.2508776052821832E-5|\n",
      "|mae   |0.0026552595467483754|\n",
      "|var   |3.0623167671451713E-7|\n",
      "+------+---------------------+\n",
      "\n"
     ]
    }
   ],
   "source": [
    "def lr_evaluator(metric_name):\n",
    "    return RegressionEvaluator(\n",
    "        labelCol=label_col,\n",
    "        predictionCol=prediction_col,\n",
    "        metricName=metric_name)\n",
    "\n",
    "def evaluate_lr(prediction_df, metrics=None):\n",
    "    if metrics is None:\n",
    "        metrics = ['rmse', 'mse', 'mae', 'var']\n",
    "    scores = {}\n",
    "    for metric in metrics:\n",
    "        evaluator = lr_evaluator(metric)\n",
    "        scores[metric] = evaluator.evaluate(prediction_df)\n",
    "    df = spark.createDataFrame(scores.items(), ['metric', 'score'])\n",
    "    return df\n",
    "\n",
    "evaluate_lr(train_prediction_df).show(truncate=False)"
   ]
  },
  {
   "cell_type": "markdown",
   "id": "a4cfaa22",
   "metadata": {
    "pycharm": {
     "name": "#%% md\n"
    }
   },
   "source": [
    "### Test errors"
   ]
  },
  {
   "cell_type": "code",
   "execution_count": 23,
   "id": "2509c5d1",
   "metadata": {
    "pycharm": {
     "name": "#%%\n"
    },
    "trusted": false
   },
   "outputs": [
    {
     "name": "stdout",
     "output_type": "stream",
     "text": [
      "+------+---------------------+\n",
      "|metric|score                |\n",
      "+------+---------------------+\n",
      "|rmse  |0.004287249452827371 |\n",
      "|mse   |1.838050787076859E-5 |\n",
      "|mae   |0.0032591466457358707|\n",
      "|var   |7.589013407219415E-8 |\n",
      "+------+---------------------+\n",
      "\n"
     ]
    }
   ],
   "source": [
    "evaluate_lr(test_prediction_df).show(truncate=False)"
   ]
  },
  {
   "cell_type": "markdown",
   "id": "a4ad0fc3",
   "metadata": {
    "pycharm": {
     "name": "#%% md\n"
    }
   },
   "source": [
    "### Top 10 terms by coefficient magnitude"
   ]
  },
  {
   "cell_type": "code",
   "execution_count": 24,
   "id": "3fb5c445",
   "metadata": {
    "pycharm": {
     "name": "#%%\n"
    },
    "trusted": false
   },
   "outputs": [
    {
     "name": "stdout",
     "output_type": "stream",
     "text": [
      "+--------+---------------------+\n",
      "|term    |coefficient          |\n",
      "+--------+---------------------+\n",
      "|pharmaci|8.086435484635693E-5 |\n",
      "|5192021 |7.95349038727638E-5  |\n",
      "|palestin|7.644486477791794E-5 |\n",
      "|fta     |7.493338886011498E-5 |\n",
      "|conclus |7.493338886011498E-5 |\n",
      "|thailand|7.493338886011498E-5 |\n",
      "|pses’   |7.27940116213498E-5  |\n",
      "|selloff |7.27940116213498E-5  |\n",
      "|observ  |7.27940116213498E-5  |\n",
      "|cypru   |-7.174371661331672E-5|\n",
      "+--------+---------------------+\n",
      "only showing top 10 rows\n",
      "\n"
     ]
    }
   ],
   "source": [
    "lr_inner = lr.bestModel.stages[0]\n",
    "coefficients_zip = zip(\n",
    "    tfidf_model.cv_model.vocabulary,\n",
    "    map(lambda x: float(x), lr_inner.coefficients))\n",
    "coefficients_df = spark.createDataFrame(coefficients_zip, ['term', 'coefficient'])\n",
    "\n",
    "coefficients_df\\\n",
    "    .withColumn('coefficient_magnitude', abs('coefficient'))\\\n",
    "    .orderBy('coefficient_magnitude', ascending=False)\\\n",
    "    .drop('coefficient_magnitude')\\\n",
    "    .show(10, truncate=False)"
   ]
  },
  {
   "cell_type": "markdown",
   "id": "ed8a934d",
   "metadata": {
    "pycharm": {
     "name": "#%% md\n"
    }
   },
   "source": [
    "### Term coefficient statistics"
   ]
  },
  {
   "cell_type": "code",
   "execution_count": 25,
   "id": "e444589d",
   "metadata": {
    "pycharm": {
     "name": "#%%\n"
    },
    "trusted": false
   },
   "outputs": [
    {
     "name": "stdout",
     "output_type": "stream",
     "text": [
      "+-------+---------------------+\n",
      "|summary|coefficient          |\n",
      "+-------+---------------------+\n",
      "|count  |5599                 |\n",
      "|mean   |-4.852561155525085E-7|\n",
      "|stddev |1.9642338242388887E-5|\n",
      "|min    |-7.174371661331672E-5|\n",
      "|max    |8.086435484635693E-5 |\n",
      "+-------+---------------------+\n",
      "\n"
     ]
    }
   ],
   "source": [
    "coefficients_df.describe('coefficient').show(truncate=False)"
   ]
  }
 ],
 "metadata": {
  "kernelspec": {
   "display_name": "Python 3 (ipykernel)",
   "language": "python",
   "name": "python3"
  },
  "language_info": {
   "codemirror_mode": {
    "name": "ipython",
    "version": 3
   },
   "file_extension": ".py",
   "mimetype": "text/x-python",
   "name": "python",
   "nbconvert_exporter": "python",
   "pygments_lexer": "ipython3",
   "version": "3.9.7"
  }
 },
 "nbformat": 4,
 "nbformat_minor": 5
}