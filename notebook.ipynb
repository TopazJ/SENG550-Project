{
 "cells": [
  {
   "cell_type": "code",
   "execution_count": null,
   "id": "e120e095",
   "metadata": {
    "trusted": false
   },
   "outputs": [],
   "source": [
    "!pip install nltk==3.6.5\n",
    "!pip install sklearn==0.0"
   ]
  },
  {
   "cell_type": "code",
   "execution_count": 2,
   "id": "485c0034",
   "metadata": {
    "pycharm": {
     "name": "#%%\n"
    },
    "trusted": false
   },
   "outputs": [],
   "source": [
    "import string\n",
    "import numpy as np\n",
    "import pandas as pd\n",
    "from nltk.stem.porter import PorterStemmer\n",
    "from sklearn.feature_extraction.text import ENGLISH_STOP_WORDS\n",
    "from pyspark.sql import SparkSession\n",
    "from pyspark.sql.functions import col, udf, pow\n",
    "from pyspark.sql.types import StringType\n",
    "from pyspark.sql.functions import percent_rank\n",
    "from pyspark.sql import Window\n",
    "from pyspark.ml import Pipeline\n",
    "from pyspark.ml.feature import CountVectorizer, IDF, Tokenizer\n",
    "from pyspark.ml.regression import LinearRegression\n",
    "from pyspark.ml.evaluation import RegressionEvaluator\n",
    "from pyspark.ml.tuning import CrossValidator, ParamGridBuilder"
   ]
  },
  {
   "cell_type": "code",
   "execution_count": 3,
   "id": "cca16acf",
   "metadata": {
    "trusted": false
   },
   "outputs": [
    {
     "name": "stderr",
     "output_type": "stream",
     "text": [
      "WARNING: An illegal reflective access operation has occurred\n",
      "WARNING: Illegal reflective access by org.apache.spark.unsafe.Platform (file:/usr/local/spark-3.2.0-bin-hadoop3.2/jars/spark-unsafe_2.12-3.2.0.jar) to constructor java.nio.DirectByteBuffer(long,int)\n",
      "WARNING: Please consider reporting this to the maintainers of org.apache.spark.unsafe.Platform\n",
      "WARNING: Use --illegal-access=warn to enable warnings of further illegal reflective access operations\n",
      "WARNING: All illegal access operations will be denied in a future release\n"
     ]
    },
    {
     "name": "stdout",
     "output_type": "stream",
     "text": [
      ":: loading settings :: url = jar:file:/usr/local/spark-3.2.0-bin-hadoop3.2/jars/ivy-2.5.0.jar!/org/apache/ivy/core/settings/ivysettings.xml\n"
     ]
    },
    {
     "name": "stderr",
     "output_type": "stream",
     "text": [
      "Ivy Default Cache set to: /home/jovyan/.ivy2/cache\n",
      "The jars for the packages stored in: /home/jovyan/.ivy2/jars\n",
      "org.mongodb.spark#mongo-spark-connector_2.12 added as a dependency\n",
      ":: resolving dependencies :: org.apache.spark#spark-submit-parent-3a82c7f2-1739-4a58-9e69-7c7cd643dc08;1.0\n",
      "\tconfs: [default]\n",
      "\tfound org.mongodb.spark#mongo-spark-connector_2.12;3.0.1 in central\n",
      "\tfound org.mongodb#mongodb-driver-sync;4.0.5 in central\n",
      "\tfound org.mongodb#bson;4.0.5 in central\n",
      "\tfound org.mongodb#mongodb-driver-core;4.0.5 in central\n",
      "downloading https://repo1.maven.org/maven2/org/mongodb/spark/mongo-spark-connector_2.12/3.0.1/mongo-spark-connector_2.12-3.0.1.jar ...\n",
      "\t[SUCCESSFUL ] org.mongodb.spark#mongo-spark-connector_2.12;3.0.1!mongo-spark-connector_2.12.jar (242ms)\n",
      "downloading https://repo1.maven.org/maven2/org/mongodb/mongodb-driver-sync/4.0.5/mongodb-driver-sync-4.0.5.jar ...\n",
      "\t[SUCCESSFUL ] org.mongodb#mongodb-driver-sync;4.0.5!mongodb-driver-sync.jar (62ms)\n",
      "downloading https://repo1.maven.org/maven2/org/mongodb/bson/4.0.5/bson-4.0.5.jar ...\n",
      "\t[SUCCESSFUL ] org.mongodb#bson;4.0.5!bson.jar (126ms)\n",
      "downloading https://repo1.maven.org/maven2/org/mongodb/mongodb-driver-core/4.0.5/mongodb-driver-core-4.0.5.jar ...\n",
      "\t[SUCCESSFUL ] org.mongodb#mongodb-driver-core;4.0.5!mongodb-driver-core.jar (325ms)\n",
      ":: resolution report :: resolve 1970ms :: artifacts dl 762ms\n",
      "\t:: modules in use:\n",
      "\torg.mongodb#bson;4.0.5 from central in [default]\n",
      "\torg.mongodb#mongodb-driver-core;4.0.5 from central in [default]\n",
      "\torg.mongodb#mongodb-driver-sync;4.0.5 from central in [default]\n",
      "\torg.mongodb.spark#mongo-spark-connector_2.12;3.0.1 from central in [default]\n",
      "\t---------------------------------------------------------------------\n",
      "\t|                  |            modules            ||   artifacts   |\n",
      "\t|       conf       | number| search|dwnlded|evicted|| number|dwnlded|\n",
      "\t---------------------------------------------------------------------\n",
      "\t|      default     |   4   |   4   |   4   |   0   ||   4   |   4   |\n",
      "\t---------------------------------------------------------------------\n",
      ":: retrieving :: org.apache.spark#spark-submit-parent-3a82c7f2-1739-4a58-9e69-7c7cd643dc08\n",
      "\tconfs: [default]\n",
      "\t4 artifacts copied, 0 already retrieved (2728kB/10ms)\n",
      "21/12/18 22:59:44 WARN NativeCodeLoader: Unable to load native-hadoop library for your platform... using builtin-java classes where applicable\n",
      "Using Spark's default log4j profile: org/apache/spark/log4j-defaults.properties\n",
      "Setting default log level to \"WARN\".\n",
      "To adjust logging level use sc.setLogLevel(newLevel). For SparkR, use setLogLevel(newLevel).\n"
     ]
    },
    {
     "name": "stdout",
     "output_type": "stream",
     "text": [
      "<pyspark.sql.session.SparkSession object at 0x7f454a6f3e80>\n"
     ]
    }
   ],
   "source": [
    "spark = SparkSession \\\n",
    "    .builder \\\n",
    "    .getOrCreate()\n",
    "print(spark)"
   ]
  },
  {
   "cell_type": "code",
   "execution_count": 4,
   "id": "636d21a4",
   "metadata": {
    "trusted": false
   },
   "outputs": [],
   "source": [
    "crypto_df = spark.read.format(\"mongo\").option(\"uri\",\"mongodb://mongo/seng550.crypto\").load()\n",
    "headers_df = spark.read.format(\"mongo\").option(\"uri\",\"mongodb://mongo/seng550.headers\").load()"
   ]
  },
  {
   "cell_type": "code",
   "execution_count": 5,
   "outputs": [
    {
     "name": "stdout",
     "output_type": "stream",
     "text": [
      "+--------------------+------------------+----------+-----------------+\n",
      "|                 _id|             close|      date|             open|\n",
      "+--------------------+------------------+----------+-----------------+\n",
      "|{619f20a05fec62ac...|        61238.6222|2021-10-23|60690.28731420007|\n",
      "|{619f20a15fec62ac...| 60694.00000650834|2021-10-22|62196.96438572152|\n",
      "|{619f20a15fec62ac...|62298.093007718286|2021-10-21|65961.04976056097|\n",
      "+--------------------+------------------+----------+-----------------+\n",
      "only showing top 3 rows\n",
      "\n"
     ]
    }
   ],
   "source": [
    "crypto_df.show(3)"
   ],
   "metadata": {
    "collapsed": false,
    "pycharm": {
     "name": "#%%\n"
    },
    "trusted": false
   },
   "id": "ccf62dd9"
  },
  {
   "cell_type": "code",
   "execution_count": 6,
   "outputs": [
    {
     "name": "stdout",
     "output_type": "stream",
     "text": [
      "+--------------------+----------+--------------------+\n",
      "|                 _id|      date|            headline|\n",
      "+--------------------+----------+--------------------+\n",
      "|{619f1214b82509cf...|2021-08-01|Family speaks out...|\n",
      "|{619f1215b82509cf...|2021-08-01|China invasion of...|\n",
      "|{619f1215b82509cf...|2021-08-01|US digital paymen...|\n",
      "+--------------------+----------+--------------------+\n",
      "only showing top 3 rows\n",
      "\n"
     ]
    }
   ],
   "source": [
    "headers_df.show(3)"
   ],
   "metadata": {
    "collapsed": false,
    "pycharm": {
     "name": "#%%\n"
    },
    "trusted": false
   },
   "id": "f7d5dd90"
  },
  {
   "cell_type": "code",
   "execution_count": 7,
   "id": "96b1e3a6",
   "metadata": {
    "trusted": false
   },
   "outputs": [
    {
     "name": "stdout",
     "output_type": "stream",
     "text": [
      "+--------------------+------------------+----------+-----------------+--------------------+\n",
      "|                 _id|             close|      date|             open|              change|\n",
      "+--------------------+------------------+----------+-----------------+--------------------+\n",
      "|{619f20a05fec62ac...|        61238.6222|2021-10-23|60690.28731420007|-0.00903496935120...|\n",
      "|{619f20a15fec62ac...| 60694.00000650834|2021-10-22|62196.96438572152| 0.02416459378776714|\n",
      "|{619f20a15fec62ac...|62298.093007718286|2021-10-21|65961.04976056097| 0.05553211730467056|\n",
      "+--------------------+------------------+----------+-----------------+--------------------+\n",
      "only showing top 3 rows\n",
      "\n"
     ]
    }
   ],
   "source": [
    "crypto_df = crypto_df.withColumn('change', 1 - (col('close') / col('open')))\n",
    "crypto_df.show(3)"
   ]
  },
  {
   "cell_type": "code",
   "execution_count": 8,
   "id": "c2473bc9",
   "metadata": {
    "trusted": false
   },
   "outputs": [
    {
     "name": "stderr",
     "output_type": "stream",
     "text": [
      "[Stage 5:>                                                          (0 + 1) / 1]\r"
     ]
    },
    {
     "name": "stdout",
     "output_type": "stream",
     "text": [
      "+--------------------+----------+--------------------+--------------------+\n",
      "|                 _id|      date|            headline|      headline_clean|\n",
      "+--------------------+----------+--------------------+--------------------+\n",
      "|{619f1214b82509cf...|2021-08-01|Family speaks out...|famili speak raci...|\n",
      "|{619f1215b82509cf...|2021-08-01|China invasion of...|china invas taiwa...|\n",
      "|{619f1215b82509cf...|2021-08-01|US digital paymen...|us digit payment ...|\n",
      "+--------------------+----------+--------------------+--------------------+\n",
      "only showing top 3 rows\n",
      "\n"
     ]
    },
    {
     "name": "stderr",
     "output_type": "stream",
     "text": [
      "                                                                                \r"
     ]
    }
   ],
   "source": [
    "def clean_header(header):\n",
    "    # Headers are small, so local process is ok.\n",
    "    porter = PorterStemmer()\n",
    "    header = header.strip()\n",
    "    if not header:\n",
    "        return ''\n",
    "    header = header.translate(str.maketrans('', '', string.punctuation))\n",
    "    return ' '.join(porter.stem(word) for word in header.split() if word not in ENGLISH_STOP_WORDS)\n",
    "\n",
    "udf_clean_header = udf(lambda s: clean_header(s), StringType())\n",
    "headers_df = headers_df.withColumn('headline_clean', udf_clean_header(col('headline')))\n",
    "headers_df.show(3)"
   ]
  },
  {
   "cell_type": "code",
   "execution_count": 9,
   "id": "165c387e",
   "metadata": {
    "trusted": false
   },
   "outputs": [
    {
     "name": "stdout",
     "output_type": "stream",
     "text": [
      "+----------+--------------------+--------------------+\n",
      "|      date|      headline_clean|   change_normalized|\n",
      "+----------+--------------------+--------------------+\n",
      "|2021-04-06|asian share eas t...|0.001684018790797...|\n",
      "|2021-04-06|patient wale uk r...|0.001684018790797...|\n",
      "|2021-04-06|dubai model dodg ...|0.001684018790797...|\n",
      "+----------+--------------------+--------------------+\n",
      "only showing top 3 rows\n",
      "\n"
     ]
    },
    {
     "name": "stderr",
     "output_type": "stream",
     "text": [
      "                                                                                \r"
     ]
    }
   ],
   "source": [
    "date_count_df = headers_df.groupby('date').count()\n",
    "crypto_headline_df = crypto_df.join(headers_df, on='date')\\\n",
    "    .join(date_count_df.withColumnRenamed('count', 'date_count'), on='date')\\\n",
    "    .withColumn('change_normalized', pow(1 + col('change'), 1 / col('date_count')) - 1)\\\n",
    "    .select('date', 'headline_clean', 'change_normalized')\n",
    "crypto_headline_df.show(3)"
   ]
  },
  {
   "cell_type": "code",
   "execution_count": 10,
   "id": "2d604cb0",
   "metadata": {
    "trusted": false
   },
   "outputs": [],
   "source": [
    "train_fraction = 0.8\n",
    "test_fraction = 1 - train_fraction\n",
    "\n",
    "train_df, test_df = crypto_headline_df.randomSplit([train_fraction, test_fraction], seed=0)"
   ]
  },
  {
   "cell_type": "code",
   "execution_count": 11,
   "outputs": [
    {
     "name": "stdout",
     "output_type": "stream",
     "text": [
      "+----------+--------------------+--------------------+\n",
      "|      date|      headline_clean|   change_normalized|\n",
      "+----------+--------------------+--------------------+\n",
      "|2021-03-01|an insan blurri t...|-0.01032963207099...|\n",
      "|2021-03-01|black amazon exec...|-0.01032963207099...|\n",
      "|2021-03-01|call perman reope...|-0.01032963207099...|\n",
      "+----------+--------------------+--------------------+\n",
      "only showing top 3 rows\n",
      "\n"
     ]
    }
   ],
   "source": [
    "train_df.show(3)"
   ],
   "metadata": {
    "collapsed": false,
    "pycharm": {
     "name": "#%%\n"
    },
    "trusted": false
   },
   "id": "51fe1ed9"
  },
  {
   "cell_type": "code",
   "execution_count": 12,
   "outputs": [
    {
     "name": "stdout",
     "output_type": "stream",
     "text": [
      "+----------+--------------------+--------------------+\n",
      "|      date|      headline_clean|   change_normalized|\n",
      "+----------+--------------------+--------------------+\n",
      "|2021-03-03|7 addit death 542...|-0.00447802498691...|\n",
      "|2021-03-03|7 addit death 542...|-0.00447802498691...|\n",
      "|2021-03-03|fema open covid v...|-0.00447802498691...|\n",
      "+----------+--------------------+--------------------+\n",
      "only showing top 3 rows\n",
      "\n"
     ]
    }
   ],
   "source": [
    "test_df.show(3)"
   ],
   "metadata": {
    "collapsed": false,
    "pycharm": {
     "name": "#%%\n"
    },
    "trusted": false
   },
   "id": "f0e46e78"
  },
  {
   "cell_type": "code",
   "execution_count": 13,
   "id": "395aba77",
   "metadata": {
    "pycharm": {
     "name": "#%%\n"
    },
    "trusted": false
   },
   "outputs": [],
   "source": [
    "class TfidfModel:\n",
    "    def __init__(self, tokenizer, cv_model, idf_model):\n",
    "        self.tokenizer = tokenizer\n",
    "        self.cv_model = cv_model\n",
    "        self.idf_model = idf_model\n",
    "\n",
    "# Use this prefix on temporary columns so they don't conflict with existing columns.\n",
    "tfidf_comp_prefix = 'kfwsxy'\n",
    "\n",
    "def fit_tfidf_model(df, input_col, output_col):\n",
    "    tokenizer = Tokenizer(inputCol=input_col, outputCol=f'{tfidf_comp_prefix}_words')\n",
    "    words_data = tokenizer.transform(df)\n",
    "\n",
    "    cv = CountVectorizer(inputCol=f'{tfidf_comp_prefix}_words', outputCol=f'{tfidf_comp_prefix}_raw')\n",
    "    cv_model = cv.fit(words_data)\n",
    "\n",
    "    featurized_data = cv_model.transform(words_data)\n",
    "\n",
    "    idf = IDF(inputCol=f'{tfidf_comp_prefix}_raw', outputCol=output_col)\n",
    "    idf_model = idf.fit(featurized_data)\n",
    "\n",
    "    return TfidfModel(tokenizer, cv_model, idf_model)\n",
    "\n",
    "tfidf_model = fit_tfidf_model(train_df, 'headline_clean', 'headline_features')"
   ]
  },
  {
   "cell_type": "code",
   "execution_count": 14,
   "id": "454786b7",
   "metadata": {
    "pycharm": {
     "name": "#%%\n"
    },
    "trusted": false
   },
   "outputs": [],
   "source": [
    "def tfidf_vectorize(df, tfidf_model):\n",
    "    words_data = tfidf_model.tokenizer.transform(df)\n",
    "    featurized_data = tfidf_model.cv_model.transform(words_data)\n",
    "    res_df = tfidf_model.idf_model.transform(featurized_data)\n",
    "    return res_df\\\n",
    "        .drop(f'{tfidf_comp_prefix}_words')\\\n",
    "        .drop(f'{tfidf_comp_prefix}_raw').drop('headline_clean')\n",
    "\n",
    "vectorized_train_df = tfidf_vectorize(train_df, tfidf_model)\n",
    "vectorized_test_df = tfidf_vectorize(test_df, tfidf_model)"
   ]
  },
  {
   "cell_type": "code",
   "execution_count": 15,
   "outputs": [
    {
     "name": "stdout",
     "output_type": "stream",
     "text": [
      "+----------+--------------------+--------------------+\n",
      "|      date|   change_normalized|   headline_features|\n",
      "+----------+--------------------+--------------------+\n",
      "|2021-03-01|-0.01032963207099...|(5599,[316,464,11...|\n",
      "|2021-03-01|-0.01032963207099...|(5599,[235,251,28...|\n",
      "|2021-03-01|-0.01032963207099...|(5599,[0,43,232,1...|\n",
      "+----------+--------------------+--------------------+\n",
      "only showing top 3 rows\n",
      "\n"
     ]
    }
   ],
   "source": [
    "vectorized_train_df.show(3)"
   ],
   "metadata": {
    "collapsed": false,
    "pycharm": {
     "name": "#%%\n"
    }
   }
  },
  {
   "cell_type": "code",
   "execution_count": 16,
   "outputs": [
    {
     "name": "stdout",
     "output_type": "stream",
     "text": [
      "+----------+--------------------+--------------------+\n",
      "|      date|   change_normalized|   headline_features|\n",
      "+----------+--------------------+--------------------+\n",
      "|2021-03-03|-0.00447802498691...|(5599,[1,2,3,9,15...|\n",
      "|2021-03-03|-0.00447802498691...|(5599,[1,2,3,9,15...|\n",
      "|2021-03-03|-0.00447802498691...|(5599,[0,4,44,739...|\n",
      "+----------+--------------------+--------------------+\n",
      "only showing top 3 rows\n",
      "\n"
     ]
    }
   ],
   "source": [
    "vectorized_test_df.show(3)"
   ],
   "metadata": {
    "collapsed": false,
    "pycharm": {
     "name": "#%%\n"
    }
   }
  },
  {
   "cell_type": "code",
   "execution_count": 17,
   "outputs": [
    {
     "name": "stderr",
     "output_type": "stream",
     "text": [
      "21/12/18 23:00:10 WARN InstanceBuilder$NativeBLAS: Failed to load implementation from:dev.ludovic.netlib.blas.JNIBLAS\n",
      "21/12/18 23:00:10 WARN InstanceBuilder$NativeBLAS: Failed to load implementation from:dev.ludovic.netlib.blas.ForeignLinkerBLAS\n",
      "21/12/18 23:00:11 WARN BLAS: Failed to load implementation from: com.github.fommil.netlib.NativeSystemBLAS\n",
      "21/12/18 23:00:11 WARN BLAS: Failed to load implementation from: com.github.fommil.netlib.NativeRefBLAS\n",
      "                                                                                \r"
     ]
    }
   ],
   "source": [
    "features_col= 'headline_features'\n",
    "label_col= 'change_normalized'\n",
    "\n",
    "reg_params = np.linspace(0, 0.5, 2)\n",
    "\n",
    "lr = LinearRegression(\n",
    "    elasticNetParam=0,\n",
    "    featuresCol=features_col,\n",
    "    labelCol=label_col,\n",
    ")\n",
    "\n",
    "pipeline = Pipeline(stages=[lr])\n",
    "\n",
    "param_grid = ParamGridBuilder()\\\n",
    "    .addGrid(lr.regParam, reg_params)\\\n",
    "    .build()\n",
    "\n",
    "evaluator = RegressionEvaluator(labelCol=label_col)\n",
    "\n",
    "cross_val = CrossValidator(estimator=pipeline,\n",
    "                           estimatorParamMaps=param_grid,\n",
    "                           evaluator=evaluator,\n",
    "                           numFolds=2,\n",
    "                           parallelism=8)\n",
    "\n",
    "cv_model = cross_val.fit(vectorized_train_df)"
   ],
   "metadata": {
    "collapsed": false,
    "pycharm": {
     "name": "#%%\n"
    },
    "trusted": false
   },
   "id": "3133db57"
  },
  {
   "cell_type": "code",
   "execution_count": 18,
   "outputs": [
    {
     "name": "stdout",
     "output_type": "stream",
     "text": [
      "+----------+--------------------+--------------------+--------------------+\n",
      "|      date|   change_normalized|   headline_features|          prediction|\n",
      "+----------+--------------------+--------------------+--------------------+\n",
      "|2021-03-03|-0.00447802498691...|(5599,[1,2,3,9,15...|-9.65411051080087...|\n",
      "|2021-03-03|-0.00447802498691...|(5599,[1,2,3,9,15...|-9.65411051080087...|\n",
      "|2021-03-03|-0.00447802498691...|(5599,[0,4,44,739...|-3.80602318061933E-5|\n",
      "+----------+--------------------+--------------------+--------------------+\n",
      "only showing top 3 rows\n",
      "\n"
     ]
    }
   ],
   "source": [
    "prediction = cv_model.transform(vectorized_test_df)\n",
    "prediction.show(3)"
   ],
   "metadata": {
    "collapsed": false,
    "pycharm": {
     "name": "#%%\n"
    },
    "trusted": false
   },
   "id": "8bf70b7c"
  },
  {
   "cell_type": "code",
   "execution_count": 19,
   "outputs": [
    {
     "data": {
      "text/plain": "<Figure size 432x288 with 1 Axes>",
      "image/png": "[encoded data removed]"
     },
     "metadata": {
      "needs_background": "light"
     },
     "output_type": "display_data"
    }
   ],
   "source": [
    "x_label = 'λ'\n",
    "y_label = 'Average ' + evaluator.getMetricName()\n",
    "tune_result_df = pd.DataFrame({\n",
    "    x_label: reg_params,\n",
    "    y_label: cv_model.avgMetrics})\\\n",
    "    .set_index(['λ'])\n",
    "plot = tune_result_df.plot.line(\n",
    "    title='Cross validation error by ridge regression λ parameter',\n",
    "    ylabel=y_label,\n",
    "    legend=False)"
   ],
   "metadata": {
    "collapsed": false,
    "pycharm": {
     "name": "#%%\n"
    },
    "trusted": false
   },
   "id": "5bba7334"
  }
 ],
 "metadata": {
  "kernelspec": {
   "display_name": "Python 3 (ipykernel)",
   "language": "python",
   "name": "python3"
  },
  "language_info": {
   "codemirror_mode": {
    "name": "ipython",
    "version": 3
   },
   "file_extension": ".py",
   "mimetype": "text/x-python",
   "name": "python",
   "nbconvert_exporter": "python",
   "pygments_lexer": "ipython3",
   "version": "3.9.7"
  }
 },
 "nbformat": 4,
 "nbformat_minor": 5
}