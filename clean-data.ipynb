{
 "cells": [
  {
   "cell_type": "markdown",
   "id": "120b149c",
   "metadata": {},
   "source": [
    "# Clean data"
   ]
  },
  {
   "cell_type": "code",
   "execution_count": 1,
   "id": "8c35acb4",
   "metadata": {
    "scrolled": true
   },
   "outputs": [
    {
     "name": "stderr",
     "output_type": "stream",
     "text": [
      "WARNING: An illegal reflective access operation has occurred\n",
      "WARNING: Illegal reflective access by org.apache.spark.unsafe.Platform (file:/usr/local/spark-3.2.0-bin-hadoop3.2/jars/spark-unsafe_2.12-3.2.0.jar) to constructor java.nio.DirectByteBuffer(long,int)\n",
      "WARNING: Please consider reporting this to the maintainers of org.apache.spark.unsafe.Platform\n",
      "WARNING: Use --illegal-access=warn to enable warnings of further illegal reflective access operations\n",
      "WARNING: All illegal access operations will be denied in a future release\n"
     ]
    },
    {
     "name": "stdout",
     "output_type": "stream",
     "text": [
      ":: loading settings :: url = jar:file:/usr/local/spark-3.2.0-bin-hadoop3.2/jars/ivy-2.5.0.jar!/org/apache/ivy/core/settings/ivysettings.xml\n"
     ]
    },
    {
     "name": "stderr",
     "output_type": "stream",
     "text": [
      "Ivy Default Cache set to: /home/jovyan/.ivy2/cache\n",
      "The jars for the packages stored in: /home/jovyan/.ivy2/jars\n",
      "org.mongodb.spark#mongo-spark-connector_2.12 added as a dependency\n",
      ":: resolving dependencies :: org.apache.spark#spark-submit-parent-6d7f72cd-cf4f-4448-8c42-5c262b387e7a;1.0\n",
      "\tconfs: [default]\n",
      "\tfound org.mongodb.spark#mongo-spark-connector_2.12;3.0.1 in central\n",
      "\tfound org.mongodb#mongodb-driver-sync;4.0.5 in central\n",
      "\tfound org.mongodb#bson;4.0.5 in central\n",
      "\tfound org.mongodb#mongodb-driver-core;4.0.5 in central\n",
      ":: resolution report :: resolve 248ms :: artifacts dl 9ms\n",
      "\t:: modules in use:\n",
      "\torg.mongodb#bson;4.0.5 from central in [default]\n",
      "\torg.mongodb#mongodb-driver-core;4.0.5 from central in [default]\n",
      "\torg.mongodb#mongodb-driver-sync;4.0.5 from central in [default]\n",
      "\torg.mongodb.spark#mongo-spark-connector_2.12;3.0.1 from central in [default]\n",
      "\t---------------------------------------------------------------------\n",
      "\t|                  |            modules            ||   artifacts   |\n",
      "\t|       conf       | number| search|dwnlded|evicted|| number|dwnlded|\n",
      "\t---------------------------------------------------------------------\n",
      "\t|      default     |   4   |   0   |   0   |   0   ||   4   |   0   |\n",
      "\t---------------------------------------------------------------------\n",
      ":: retrieving :: org.apache.spark#spark-submit-parent-6d7f72cd-cf4f-4448-8c42-5c262b387e7a\n",
      "\tconfs: [default]\n",
      "\t0 artifacts copied, 4 already retrieved (0kB/7ms)\n",
      "21/11/28 06:33:59 WARN NativeCodeLoader: Unable to load native-hadoop library for your platform... using builtin-java classes where applicable\n",
      "Using Spark's default log4j profile: org/apache/spark/log4j-defaults.properties\n",
      "Setting default log level to \"WARN\".\n",
      "To adjust logging level use sc.setLogLevel(newLevel). For SparkR, use setLogLevel(newLevel).\n"
     ]
    }
   ],
   "source": [
    "from pyspark.sql import SparkSession\n",
    "spark = SparkSession \\\n",
    "    .builder \\\n",
    "    .config(\"spark.mongodb.input.uri\", \"mongodb://mongo/seng550.crypto\") \\\n",
    "    .config(\"spark.mongodb.output.uri\", \"mongodb://mongo/test.coll\") \\\n",
    "    .getOrCreate()"
   ]
  },
  {
   "cell_type": "code",
   "execution_count": 2,
   "id": "636d21a4",
   "metadata": {},
   "outputs": [
    {
     "name": "stdout",
     "output_type": "stream",
     "text": [
      "+--------------------+------------------+----------+------------------+\n",
      "|                 _id|             close|      date|              open|\n",
      "+--------------------+------------------+----------+------------------+\n",
      "|{619f20a05fec62ac...|        61238.6222|2021-10-23| 60690.28731420007|\n",
      "|{619f20a15fec62ac...| 60694.00000650834|2021-10-22| 62196.96438572152|\n",
      "|{619f20a15fec62ac...|62298.093007718286|2021-10-21| 65961.04976056097|\n",
      "|{619f20a15fec62ac...| 65986.30293718613|2021-10-20|        64252.7263|\n",
      "|{619f20a15fec62ac...|        64217.0839|2021-10-19|        62020.0126|\n",
      "|{619f20a15fec62ac...|        61953.2331|2021-10-18| 61543.26469764322|\n",
      "|{619f20a15fec62ac...| 61582.25155249131|2021-10-17| 60867.89483798279|\n",
      "|{619f20a15fec62ac...| 60860.89183706596|2021-10-16| 61698.03021926293|\n",
      "|{619f20a15fec62ac...| 61526.33413298988|2021-10-15|57312.383791730215|\n",
      "|{619f20a15fec62ac...|  57351.7384160736|2021-10-14|        57385.8884|\n",
      "|{619f20a15fec62ac...|        57357.6067|2021-10-13| 56030.57101118398|\n",
      "|{619f20a15fec62ac...| 56035.85825462517|2021-10-12| 57399.22646992879|\n",
      "|{619f20a15fec62ac...| 57399.22646992879|2021-10-11|        54695.9213|\n",
      "|{619f20a15fec62ac...|        54689.5713|2021-10-10| 54926.17141243465|\n",
      "|{619f20a15fec62ac...| 55102.17221375232|2021-10-09|         53962.199|\n",
      "|{619f20a15fec62ac...|        53892.9323|2021-10-08| 53781.69777700771|\n",
      "|{619f20a15fec62ac...| 53809.13817103468|2021-10-07| 55315.91067459052|\n",
      "|{619f20a25fec62ac...| 55385.44519072514|2021-10-06| 51500.05703123766|\n",
      "|{619f20a25fec62ac...| 51545.04936807646|2021-10-05|        49273.7109|\n",
      "|{619f20a25fec62ac...|        49176.7613|2021-10-04|        48186.6468|\n",
      "+--------------------+------------------+----------+------------------+\n",
      "only showing top 20 rows\n",
      "\n"
     ]
    }
   ],
   "source": [
    "df = spark.read.format(\"mongo\").load()\n",
    "df.show()"
   ]
  }
 ],
 "metadata": {
  "kernelspec": {
   "display_name": "Python 3 (ipykernel)",
   "language": "python",
   "name": "python3"
  },
  "language_info": {
   "codemirror_mode": {
    "name": "ipython",
    "version": 3
   },
   "file_extension": ".py",
   "mimetype": "text/x-python",
   "name": "python",
   "nbconvert_exporter": "python",
   "pygments_lexer": "ipython3",
   "version": "3.9.7"
  }
 },
 "nbformat": 4,
 "nbformat_minor": 5
}
