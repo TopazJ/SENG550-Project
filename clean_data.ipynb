{
 "cells": [
  {
   "cell_type": "markdown",
   "id": "120b149c",
   "metadata": {},
   "source": [
    "# Clean data"
   ]
  },
  {
   "cell_type": "code",
   "execution_count": 8,
   "id": "e120e095",
   "metadata": {
    "trusted": false
   },
   "outputs": [
    {
     "name": "stdout",
     "output_type": "stream",
     "text": [
      "Requirement already satisfied: nltk==3.6.5 in /opt/conda/lib/python3.9/site-packages (3.6.5)\r\n",
      "Requirement already satisfied: regex>=2021.8.3 in /opt/conda/lib/python3.9/site-packages (from nltk==3.6.5) (2021.11.10)\r\n",
      "Requirement already satisfied: click in /opt/conda/lib/python3.9/site-packages (from nltk==3.6.5) (8.0.3)\r\n",
      "Requirement already satisfied: joblib in /opt/conda/lib/python3.9/site-packages (from nltk==3.6.5) (1.1.0)\r\n",
      "Requirement already satisfied: tqdm in /opt/conda/lib/python3.9/site-packages (from nltk==3.6.5) (4.62.3)\r\n",
      "Requirement already satisfied: sklearn==0.0 in /opt/conda/lib/python3.9/site-packages (0.0)\r\n",
      "Requirement already satisfied: scikit-learn in /opt/conda/lib/python3.9/site-packages (from sklearn==0.0) (1.0.1)\r\n",
      "Requirement already satisfied: joblib>=0.11 in /opt/conda/lib/python3.9/site-packages (from scikit-learn->sklearn==0.0) (1.1.0)\r\n",
      "Requirement already satisfied: threadpoolctl>=2.0.0 in /opt/conda/lib/python3.9/site-packages (from scikit-learn->sklearn==0.0) (3.0.0)\r\n",
      "Requirement already satisfied: numpy>=1.14.6 in /opt/conda/lib/python3.9/site-packages (from scikit-learn->sklearn==0.0) (1.20.3)\r\n",
      "Requirement already satisfied: scipy>=1.1.0 in /opt/conda/lib/python3.9/site-packages (from scikit-learn->sklearn==0.0) (1.7.2)\r\n"
     ]
    }
   ],
   "source": [
    "!pip install nltk==3.6.5\n",
    "!pip install sklearn==0.0"
   ]
  },
  {
   "cell_type": "code",
   "execution_count": 9,
   "id": "cca16acf",
   "metadata": {
    "trusted": false
   },
   "outputs": [
    {
     "name": "stdout",
     "output_type": "stream",
     "text": [
      "<pyspark.sql.session.SparkSession object at 0x7faf243976d0>\n"
     ]
    }
   ],
   "source": "from pyspark.sql import SparkSession\nspark = SparkSession \\\n    .builder \\\n    .getOrCreate()\nprint(spark)"
  },
  {
   "cell_type": "code",
   "execution_count": 10,
   "id": "636d21a4",
   "metadata": {
    "trusted": false
   },
   "outputs": [
    {
     "name": "stdout",
     "output_type": "stream",
     "text": [
      "+--------------------+------------------+----------+------------------+\n",
      "|                 _id|             close|      date|              open|\n",
      "+--------------------+------------------+----------+------------------+\n",
      "|{619f20a05fec62ac...|        61238.6222|2021-10-23| 60690.28731420007|\n",
      "|{619f20a15fec62ac...| 60694.00000650834|2021-10-22| 62196.96438572152|\n",
      "|{619f20a15fec62ac...|62298.093007718286|2021-10-21| 65961.04976056097|\n",
      "|{619f20a15fec62ac...| 65986.30293718613|2021-10-20|        64252.7263|\n",
      "|{619f20a15fec62ac...|        64217.0839|2021-10-19|        62020.0126|\n",
      "|{619f20a15fec62ac...|        61953.2331|2021-10-18| 61543.26469764322|\n",
      "|{619f20a15fec62ac...| 61582.25155249131|2021-10-17| 60867.89483798279|\n",
      "|{619f20a15fec62ac...| 60860.89183706596|2021-10-16| 61698.03021926293|\n",
      "|{619f20a15fec62ac...| 61526.33413298988|2021-10-15|57312.383791730215|\n",
      "|{619f20a15fec62ac...|  57351.7384160736|2021-10-14|        57385.8884|\n",
      "|{619f20a15fec62ac...|        57357.6067|2021-10-13| 56030.57101118398|\n",
      "|{619f20a15fec62ac...| 56035.85825462517|2021-10-12| 57399.22646992879|\n",
      "|{619f20a15fec62ac...| 57399.22646992879|2021-10-11|        54695.9213|\n",
      "|{619f20a15fec62ac...|        54689.5713|2021-10-10| 54926.17141243465|\n",
      "|{619f20a15fec62ac...| 55102.17221375232|2021-10-09|         53962.199|\n",
      "|{619f20a15fec62ac...|        53892.9323|2021-10-08| 53781.69777700771|\n",
      "|{619f20a15fec62ac...| 53809.13817103468|2021-10-07| 55315.91067459052|\n",
      "|{619f20a25fec62ac...| 55385.44519072514|2021-10-06| 51500.05703123766|\n",
      "|{619f20a25fec62ac...| 51545.04936807646|2021-10-05|        49273.7109|\n",
      "|{619f20a25fec62ac...|        49176.7613|2021-10-04|        48186.6468|\n",
      "+--------------------+------------------+----------+------------------+\n",
      "only showing top 20 rows\n",
      "\n",
      "+--------------------+----------+--------------------+\n",
      "|                 _id|      date|            headline|\n",
      "+--------------------+----------+--------------------+\n",
      "|{619f1214b82509cf...|2021-08-01|Family speaks out...|\n",
      "|{619f1215b82509cf...|2021-08-01|China invasion of...|\n",
      "|{619f1215b82509cf...|2021-08-01|US digital paymen...|\n",
      "|{619f1215b82509cf...|2021-08-01|‘Allow Malaysians...|\n",
      "|{619f1215b82509cf...|2021-08-01|Australia's After...|\n",
      "|{619f1215b82509cf...|2021-08-01|Americans blast A...|\n",
      "|{619f1215b82509cf...|2021-08-01|Turkey fires ‘lik...|\n",
      "|{619f1215b82509cf...|2021-08-01|Horoscope today, ...|\n",
      "|{619f1215b82509cf...|2021-08-01|Horoscope Today: ...|\n",
      "|{619f1215b82509cf...|2021-08-01|Horoscope Today: ...|\n",
      "|{619f146e97b10036...|2021-08-02|Govt decides to i...|\n",
      "|{619f146f97b10036...|2021-08-02|Markets Live, Tue...|\n",
      "|{619f146f97b10036...|2021-08-02|Afghan peace effo...|\n",
      "|{619f146f97b10036...|2021-08-02|Minor girl’s rape...|\n",
      "|{619f146f97b10036...|2021-08-02|John Cleese asks ...|\n",
      "|{619f146f97b10036...|2021-08-02|Afghan fighting r...|\n",
      "|{619f146f97b10036...|2021-08-02|Afghan President ...|\n",
      "|{619f146f97b10036...|2021-08-02|Inside actor Aree...|\n",
      "|{619f146f97b10036...|2021-08-02|Jack Dorsey outli...|\n",
      "|{619f146f97b10036...|2021-08-02|Age of Empires IV...|\n",
      "+--------------------+----------+--------------------+\n",
      "only showing top 20 rows\n",
      "\n"
     ]
    }
   ],
   "source": "crypto_df = spark.read.format(\"mongo\").option(\"uri\",\"mongodb://mongo/seng550.crypto\").load()\ncrypto_df.show()\nheaders_df = spark.read.format(\"mongo\").option(\"uri\",\"mongodb://mongo/seng550.headers\").load()\nheaders_df.show()"
  },
  {
   "cell_type": "markdown",
   "id": "73fd0294",
   "metadata": {},
   "source": "### Clean the crypto dataframe - JD"
  },
  {
   "cell_type": "code",
   "execution_count": 11,
   "id": "96b1e3a6",
   "metadata": {
    "trusted": false
   },
   "outputs": [
    {
     "name": "stdout",
     "output_type": "stream",
     "text": [
      "+----------+-------------------+\n",
      "|      date|             change|\n",
      "+----------+-------------------+\n",
      "|2021-10-23|  548.3348857999299|\n",
      "|2021-10-22|-1502.9643792131828|\n",
      "|2021-10-21| -3662.956752842685|\n",
      "|2021-10-20| 1733.5766371861318|\n",
      "|2021-10-19|  2197.071299999996|\n",
      "|2021-10-18|  409.9684023567752|\n",
      "|2021-10-17|   714.356714508518|\n",
      "|2021-10-16| -837.1383821969721|\n",
      "|2021-10-15|  4213.950341259668|\n",
      "|2021-10-14|   -34.149983926407|\n",
      "|2021-10-13| 1327.0356888160168|\n",
      "|2021-10-12|-1363.3682153036207|\n",
      "|2021-10-11|   2703.30516992879|\n",
      "|2021-10-10|-236.60011243464396|\n",
      "|2021-10-09|  1139.973213752317|\n",
      "|2021-10-08| 111.23452299229393|\n",
      "|2021-10-07|-1506.7725035558396|\n",
      "|2021-10-06|  3885.388159487484|\n",
      "|2021-10-05|  2271.338468076465|\n",
      "|2021-10-04|   990.114499999996|\n",
      "+----------+-------------------+\n",
      "only showing top 20 rows\n",
      "\n"
     ]
    },
    {
     "name": "stderr",
     "output_type": "stream",
     "text": [
      "21/12/06 21:12:57 WARN SimpleFunctionRegistry: The function change_udf replaced a previously registered function.\n"
     ]
    }
   ],
   "source": "# https://stackoverflow.com/questions/58823628/call-a-function-for-each-row-of-a-dataframe-in-pysparknon-pandas\nfrom pyspark.sql.functions import col, udf\nfrom pyspark.sql.types import StringType\ndef get_change(close, open_):\n    return  close - open_\nspark.udf.register(\"change_udf\", get_change)\n# crypto_df.show()\ncrypto_df = crypto_df.withColumn('change', get_change(col('close'), col('open'))).drop(\"close\",\"open\",\"_id\")\ncrypto_df.show()"
  },
  {
   "cell_type": "markdown",
   "id": "b9efc76d",
   "metadata": {},
   "source": "### Clean the headers dataframe - JD"
  },
  {
   "cell_type": "code",
   "execution_count": 12,
   "id": "c2473bc9",
   "metadata": {
    "trusted": false
   },
   "outputs": [
    {
     "name": "stdout",
     "output_type": "stream",
     "text": [
      "+----------+--------------------+\n",
      "|      date|      clean_headline|\n",
      "+----------+--------------------+\n",
      "|2021-08-01|famili speak raci...|\n",
      "|2021-08-01|china invas taiwa...|\n",
      "|2021-08-01|us digit payment ...|\n",
      "|2021-08-01|‘allow malaysian ...|\n",
      "|2021-08-01|australia afterpa...|\n",
      "|2021-08-01|american blast au...|\n",
      "|2021-08-01|turkey fire ‘like...|\n",
      "|2021-08-01|horoscop today mo...|\n",
      "|2021-08-01|horoscop today as...|\n",
      "|2021-08-01|horoscop today as...|\n",
      "|2021-08-02|govt decid import...|\n",
      "|2021-08-02|market live tuesd...|\n",
      "|2021-08-02|afghan peac effor...|\n",
      "|2021-08-02|minor girl’ rape ...|\n",
      "|2021-08-02|john clees ask pl...|\n",
      "|2021-08-02|afghan fight rage...|\n",
      "|2021-08-02|afghan presid ash...|\n",
      "|2021-08-02|insid actor areeb...|\n",
      "|2021-08-02|jack dorsey outli...|\n",
      "|2021-08-02|age empir iv late...|\n",
      "+----------+--------------------+\n",
      "only showing top 20 rows\n",
      "\n"
     ]
    }
   ],
   "source": "\nimport string\nfrom nltk.stem.porter import PorterStemmer\nfrom sklearn.feature_extraction.text import ENGLISH_STOP_WORDS\n\ndef clean_header(header):\n    porter = PorterStemmer()\n    # headers are small, so local process is ok\n    header = header.strip()\n    if not header:\n        return ''\n    header = header.translate(str.maketrans('', '', string.punctuation))\n    return ' '.join(porter.stem(word) for word in header.split() if word not in ENGLISH_STOP_WORDS)\nudf_clean_header = udf(lambda s: clean_header(s), StringType())\nheaders_df = headers_df.withColumn('clean_headline', udf_clean_header(col('headline'))).drop(\"headline\",\"_id\")\nheaders_df.show()"
  },
  {
   "cell_type": "markdown",
   "id": "81411770",
   "metadata": {},
   "source": "### Join - Owen"
  },
  {
   "cell_type": "code",
   "execution_count": 13,
   "id": "165c387e",
   "metadata": {
    "trusted": false
   },
   "outputs": [
    {
     "name": "stderr",
     "output_type": "stream",
     "text": [
      "[Stage 55:>                                                         (0 + 1) / 1]\r"
     ]
    },
    {
     "name": "stdout",
     "output_type": "stream",
     "text": [
      "+----------+-------------------+--------------------+\n",
      "|      date|             change|      clean_headline|\n",
      "+----------+-------------------+--------------------+\n",
      "|2021-04-06|-1002.7633574389984|asian share eas t...|\n",
      "|2021-04-06|-1002.7633574389984|patient wale uk r...|\n",
      "|2021-04-06|-1002.7633574389984|dubai model dodg ...|\n",
      "|2021-04-06|-1002.7633574389984|two deshaun watso...|\n",
      "|2021-04-06|-1002.7633574389984|nasa say photo ra...|\n",
      "|2021-04-06|-1002.7633574389984|arkansa governor ...|\n",
      "|2021-04-06|-1002.7633574389984|derek chauvin tri...|\n",
      "|2021-04-06|-1002.7633574389984|australia accus e...|\n",
      "|2021-04-06|-1002.7633574389984|first covid vacci...|\n",
      "|2021-04-06|-1002.7633574389984|california pacif ...|\n",
      "|2021-08-30| -1742.739300000001|australian urg sw...|\n",
      "|2021-08-30| -1742.739300000001|hurrican veteran ...|\n",
      "|2021-08-30| -1742.739300000001|california nation...|\n",
      "|2021-08-30| -1742.739300000001|govt doesn’t acce...|\n",
      "|2021-08-30| -1742.739300000001|whi serena willia...|\n",
      "|2021-08-30| -1742.739300000001|not singl afghani...|\n",
      "|2021-08-30| -1742.739300000001|jake paul call ‘r...|\n",
      "|2021-08-30| -1742.739300000001|inocul frustrat c...|\n",
      "|2021-08-30| -1742.739300000001|us center diseas ...|\n",
      "|2021-08-30| -1742.739300000001|market live tuesd...|\n",
      "+----------+-------------------+--------------------+\n",
      "only showing top 20 rows\n",
      "\n"
     ]
    },
    {
     "name": "stderr",
     "output_type": "stream",
     "text": [
      "                                                                                \r"
     ]
    }
   ],
   "source": "df = crypto_df.join(headers_df, on='date')\ndf.show()"
  },
  {
   "cell_type": "markdown",
   "id": "8a7239cd",
   "metadata": {},
   "source": "### Split data - JD"
  },
  {
   "cell_type": "code",
   "execution_count": 14,
   "id": "2d604cb0",
   "metadata": {
    "trusted": false
   },
   "outputs": [
    {
     "name": "stderr",
     "output_type": "stream",
     "text": [
      "21/12/06 21:12:59 WARN WindowExec: No Partition Defined for Window operation! Moving all data to a single partition, this can cause serious performance degradation.\n",
      "21/12/06 21:12:59 WARN WindowExec: No Partition Defined for Window operation! Moving all data to a single partition, this can cause serious performance degradation.\n",
      "21/12/06 21:12:59 WARN WindowExec: No Partition Defined for Window operation! Moving all data to a single partition, this can cause serious performance degradation.\n",
      "21/12/06 21:12:59 WARN WindowExec: No Partition Defined for Window operation! Moving all data to a single partition, this can cause serious performance degradation.\n",
      "21/12/06 21:12:59 WARN WindowExec: No Partition Defined for Window operation! Moving all data to a single partition, this can cause serious performance degradation.\n",
      "21/12/06 21:12:59 WARN WindowExec: No Partition Defined for Window operation! Moving all data to a single partition, this can cause serious performance degradation.\n",
      "21/12/06 21:12:59 WARN WindowExec: No Partition Defined for Window operation! Moving all data to a single partition, this can cause serious performance degradation.\n",
      "21/12/06 21:12:59 WARN WindowExec: No Partition Defined for Window operation! Moving all data to a single partition, this can cause serious performance degradation.\n"
     ]
    },
    {
     "name": "stdout",
     "output_type": "stream",
     "text": [
      "+----------+--------------------+\n",
      "|      date|      clean_headline|\n",
      "+----------+--------------------+\n",
      "|2021-03-01|black amazon exec...|\n",
      "|2021-03-01|jeff bezo versu m...|\n",
      "|2021-03-01|michael gudinski ...|\n",
      "|2021-03-01|new revolutionari...|\n",
      "|2021-03-01|ladi gaga dog wal...|\n",
      "|2021-03-01|studi assess caus...|\n",
      "|2021-03-01|seahawk qb russel...|\n",
      "|2021-03-01|call perman reope...|\n",
      "|2021-03-01|an insan blurri t...|\n",
      "|2021-03-01|one hin leong fou...|\n",
      "|2021-03-02|white hous pull n...|\n",
      "|2021-03-02|is pfizer covid v...|\n",
      "|2021-03-02|hilaria alec bald...|\n",
      "|2021-03-02|gov abbott execut...|\n",
      "|2021-03-02|risk breast cance...|\n",
      "|2021-03-02|texa governor lif...|\n",
      "|2021-03-02|covid19 vaccin al...|\n",
      "|2021-03-02|report suggest ro...|\n",
      "|2021-03-02|who is meghan mar...|\n",
      "|2021-03-02|rio tinto chairma...|\n",
      "+----------+--------------------+\n",
      "only showing top 20 rows\n",
      "\n"
     ]
    },
    {
     "name": "stderr",
     "output_type": "stream",
     "text": [
      "21/12/06 21:12:59 WARN WindowExec: No Partition Defined for Window operation! Moving all data to a single partition, this can cause serious performance degradation.\n",
      "21/12/06 21:13:00 WARN WindowExec: No Partition Defined for Window operation! Moving all data to a single partition, this can cause serious performance degradation.\n",
      "21/12/06 21:13:00 WARN WindowExec: No Partition Defined for Window operation! Moving all data to a single partition, this can cause serious performance degradation.\n",
      "21/12/06 21:13:00 WARN WindowExec: No Partition Defined for Window operation! Moving all data to a single partition, this can cause serious performance degradation.\n",
      "21/12/06 21:13:00 WARN WindowExec: No Partition Defined for Window operation! Moving all data to a single partition, this can cause serious performance degradation.\n",
      "21/12/06 21:13:00 WARN WindowExec: No Partition Defined for Window operation! Moving all data to a single partition, this can cause serious performance degradation.\n"
     ]
    },
    {
     "name": "stdout",
     "output_type": "stream",
     "text": [
      "+----------+--------------------+\n",
      "|      date|      clean_headline|\n",
      "+----------+--------------------+\n",
      "|2021-09-07|britney spears’ d...|\n",
      "|2021-09-07|leylah fernandez ...|\n",
      "|2021-09-07|taliban air scatt...|\n",
      "|2021-09-07|texa abort ‘whist...|\n",
      "|2021-09-07|new sharktooth di...|\n",
      "|2021-09-07|covid19 huge vacc...|\n",
      "|2021-09-07|samsung galaxi no...|\n",
      "|2021-09-07|in flood manvil n...|\n",
      "|2021-09-07|morn brief top st...|\n",
      "|2021-09-07|britney spear fat...|\n",
      "|2021-09-08|how support a fri...|\n",
      "|2021-09-08|tropic storm mind...|\n",
      "|2021-09-08|pediatr covid cas...|\n",
      "|2021-09-08|mcconnel send lot...|\n",
      "|2021-09-08|taliban cabinet i...|\n",
      "|2021-09-08|karnal stir mirro...|\n",
      "|2021-09-08|air new zealand a...|\n",
      "|2021-09-08|labor depart tout...|\n",
      "|2021-09-08|covid19 breakthro...|\n",
      "|2021-09-08|scott morrison se...|\n",
      "+----------+--------------------+\n",
      "only showing top 20 rows\n",
      "\n"
     ]
    },
    {
     "name": "stderr",
     "output_type": "stream",
     "text": [
      "21/12/06 21:13:00 WARN WindowExec: No Partition Defined for Window operation! Moving all data to a single partition, this can cause serious performance degradation.\n",
      "21/12/06 21:13:00 WARN WindowExec: No Partition Defined for Window operation! Moving all data to a single partition, this can cause serious performance degradation.\n",
      "21/12/06 21:13:00 WARN WindowExec: No Partition Defined for Window operation! Moving all data to a single partition, this can cause serious performance degradation.\n",
      "21/12/06 21:13:00 WARN WindowExec: No Partition Defined for Window operation! Moving all data to a single partition, this can cause serious performance degradation.\n"
     ]
    },
    {
     "name": "stdout",
     "output_type": "stream",
     "text": [
      "+----------+------------------+\n",
      "|      date|            change|\n",
      "+----------+------------------+\n",
      "|2021-03-01| 4448.866828906001|\n",
      "|2021-03-01| 4448.866828906001|\n",
      "|2021-03-01| 4448.866828906001|\n",
      "|2021-03-01| 4448.866828906001|\n",
      "|2021-03-01| 4448.866828906001|\n",
      "|2021-03-01| 4448.866828906001|\n",
      "|2021-03-01| 4448.866828906001|\n",
      "|2021-03-01| 4448.866828906001|\n",
      "|2021-03-01| 4448.866828906001|\n",
      "|2021-03-01| 4448.866828906001|\n",
      "|2021-03-02|-1344.387735297998|\n",
      "|2021-03-02|-1344.387735297998|\n",
      "|2021-03-02|-1344.387735297998|\n",
      "|2021-03-02|-1344.387735297998|\n",
      "|2021-03-02|-1344.387735297998|\n",
      "|2021-03-02|-1344.387735297998|\n",
      "|2021-03-02|-1344.387735297998|\n",
      "|2021-03-02|-1344.387735297998|\n",
      "|2021-03-02|-1344.387735297998|\n",
      "|2021-03-02|-1344.387735297998|\n",
      "+----------+------------------+\n",
      "only showing top 20 rows\n",
      "\n"
     ]
    },
    {
     "name": "stderr",
     "output_type": "stream",
     "text": [
      "21/12/06 21:13:01 WARN WindowExec: No Partition Defined for Window operation! Moving all data to a single partition, this can cause serious performance degradation.\n",
      "21/12/06 21:13:01 WARN WindowExec: No Partition Defined for Window operation! Moving all data to a single partition, this can cause serious performance degradation.\n",
      "21/12/06 21:13:01 WARN WindowExec: No Partition Defined for Window operation! Moving all data to a single partition, this can cause serious performance degradation.\n",
      "21/12/06 21:13:01 WARN WindowExec: No Partition Defined for Window operation! Moving all data to a single partition, this can cause serious performance degradation.\n",
      "21/12/06 21:13:01 WARN WindowExec: No Partition Defined for Window operation! Moving all data to a single partition, this can cause serious performance degradation.\n",
      "21/12/06 21:13:01 WARN WindowExec: No Partition Defined for Window operation! Moving all data to a single partition, this can cause serious performance degradation.\n"
     ]
    },
    {
     "name": "stdout",
     "output_type": "stream",
     "text": [
      "+----------+------------------+\n",
      "|      date|            change|\n",
      "+----------+------------------+\n",
      "|2021-09-07|        -5786.6247|\n",
      "|2021-09-07|        -5786.6247|\n",
      "|2021-09-07|        -5786.6247|\n",
      "|2021-09-07|        -5786.6247|\n",
      "|2021-09-07|        -5786.6247|\n",
      "|2021-09-07|        -5786.6247|\n",
      "|2021-09-07|        -5786.6247|\n",
      "|2021-09-07|        -5786.6247|\n",
      "|2021-09-07|        -5786.6247|\n",
      "|2021-09-07|        -5786.6247|\n",
      "|2021-09-08|-805.3629999999976|\n",
      "|2021-09-08|-805.3629999999976|\n",
      "|2021-09-08|-805.3629999999976|\n",
      "|2021-09-08|-805.3629999999976|\n",
      "|2021-09-08|-805.3629999999976|\n",
      "|2021-09-08|-805.3629999999976|\n",
      "|2021-09-08|-805.3629999999976|\n",
      "|2021-09-08|-805.3629999999976|\n",
      "|2021-09-08|-805.3629999999976|\n",
      "|2021-09-08|-805.3629999999976|\n",
      "+----------+------------------+\n",
      "only showing top 20 rows\n",
      "\n"
     ]
    }
   ],
   "source": "# method 1 https://stackoverflow.com/a/51773836, can only be done on 1 partition\nfrom pyspark.sql.functions import percent_rank\nfrom pyspark.sql import Window\n\n# assign ranks\n# TODO better method to avoid this problem - if we do random splits it might be better? \ndf = df.withColumn(\"rank\", percent_rank().over(Window.partitionBy().orderBy(\"date\")))\n# split\nX_train = df.where(\"rank <= .8\").drop(\"rank\",\"change\")\nX_train.show()\nX_test = df.where(\"rank > .8\").drop(\"rank\",\"change\")\nX_test.show()\ny_train = df.where(\"rank <= .8\").drop(\"rank\",\"clean_headline\")\ny_train.show()\ny_test = df.where(\"rank > .8\").drop(\"rank\",\"clean_headline\")\ny_test.show()\n\n# method 2 https://stackoverflow.com/a/53193549, needs the number of dates fed in to split\n# from pyspark.ml.feature import StringIndexer\n\n# stringIndexer = StringIndexer(inputCol=\"date\", outputCol=\"index\")\n# model = stringIndexer.fit(headers_df)\n# headers_df = model.transform(headers_df).withColumn(\"index\", col(\"index\").cast(\"int\"))\n\n# headers_df.show()"
  },
  {
   "cell_type": "code",
   "execution_count": 14,
   "id": "6fd99ee1",
   "metadata": {
    "trusted": false
   },
   "outputs": [],
   "source": ""
  }
 ],
 "metadata": {
  "kernelspec": {
   "display_name": "Python 3 (ipykernel)",
   "language": "python",
   "name": "python3"
  },
  "language_info": {
   "codemirror_mode": {
    "name": "ipython",
    "version": 3
   },
   "file_extension": ".py",
   "mimetype": "text/x-python",
   "name": "python",
   "nbconvert_exporter": "python",
   "pygments_lexer": "ipython3",
   "version": "3.9.7"
  }
 },
 "nbformat": 4,
 "nbformat_minor": 5
}