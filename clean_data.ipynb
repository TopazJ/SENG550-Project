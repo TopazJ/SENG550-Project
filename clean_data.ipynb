{
 "cells": [
  {
   "cell_type": "markdown",
   "id": "120b149c",
   "metadata": {},
   "source": [
    "# Clean data"
   ]
  },
  {
   "cell_type": "code",
   "execution_count": 7,
   "id": "d680bda9",
   "metadata": {},
   "outputs": [
    {
     "name": "stdout",
     "output_type": "stream",
     "text": [
      "Requirement already satisfied: nltk in /opt/conda/lib/python3.9/site-packages (3.6.5)\n",
      "Requirement already satisfied: regex>=2021.8.3 in /opt/conda/lib/python3.9/site-packages (from nltk) (2021.11.10)\n",
      "Requirement already satisfied: click in /opt/conda/lib/python3.9/site-packages (from nltk) (8.0.3)\n",
      "Requirement already satisfied: joblib in /opt/conda/lib/python3.9/site-packages (from nltk) (1.1.0)\n",
      "Requirement already satisfied: tqdm in /opt/conda/lib/python3.9/site-packages (from nltk) (4.62.3)\n",
      "Requirement already satisfied: sklearn in /opt/conda/lib/python3.9/site-packages (0.0)\n",
      "Requirement already satisfied: scikit-learn in /opt/conda/lib/python3.9/site-packages (from sklearn) (1.0.1)\n",
      "Requirement already satisfied: threadpoolctl>=2.0.0 in /opt/conda/lib/python3.9/site-packages (from scikit-learn->sklearn) (3.0.0)\n",
      "Requirement already satisfied: scipy>=1.1.0 in /opt/conda/lib/python3.9/site-packages (from scikit-learn->sklearn) (1.7.2)\n",
      "Requirement already satisfied: numpy>=1.14.6 in /opt/conda/lib/python3.9/site-packages (from scikit-learn->sklearn) (1.20.3)\n",
      "Requirement already satisfied: joblib>=0.11 in /opt/conda/lib/python3.9/site-packages (from scikit-learn->sklearn) (1.1.0)\n"
     ]
    }
   ],
   "source": [
    "!pip install nltk\n",
    "!pip install sklearn"
   ]
  },
  {
   "cell_type": "code",
   "execution_count": 8,
   "id": "82b82f75",
   "metadata": {},
   "outputs": [
    {
     "name": "stdout",
     "output_type": "stream",
     "text": [
      "<pyspark.sql.session.SparkSession object at 0x7f2824337f70>\n"
     ]
    }
   ],
   "source": [
    "from pyspark.sql import SparkSession\n",
    "spark = SparkSession \\\n",
    "    .builder \\\n",
    "    .getOrCreate()\n",
    "print(spark)"
   ]
  },
  {
   "cell_type": "code",
   "execution_count": 10,
   "id": "636d21a4",
   "metadata": {},
   "outputs": [
    {
     "name": "stdout",
     "output_type": "stream",
     "text": [
      "+--------------------+------------------+----------+------------------+\n",
      "|                 _id|             close|      date|              open|\n",
      "+--------------------+------------------+----------+------------------+\n",
      "|{619f20a05fec62ac...|        61238.6222|2021-10-23| 60690.28731420007|\n",
      "|{619f20a15fec62ac...| 60694.00000650834|2021-10-22| 62196.96438572152|\n",
      "|{619f20a15fec62ac...|62298.093007718286|2021-10-21| 65961.04976056097|\n",
      "|{619f20a15fec62ac...| 65986.30293718613|2021-10-20|        64252.7263|\n",
      "|{619f20a15fec62ac...|        64217.0839|2021-10-19|        62020.0126|\n",
      "|{619f20a15fec62ac...|        61953.2331|2021-10-18| 61543.26469764322|\n",
      "|{619f20a15fec62ac...| 61582.25155249131|2021-10-17| 60867.89483798279|\n",
      "|{619f20a15fec62ac...| 60860.89183706596|2021-10-16| 61698.03021926293|\n",
      "|{619f20a15fec62ac...| 61526.33413298988|2021-10-15|57312.383791730215|\n",
      "|{619f20a15fec62ac...|  57351.7384160736|2021-10-14|        57385.8884|\n",
      "|{619f20a15fec62ac...|        57357.6067|2021-10-13| 56030.57101118398|\n",
      "|{619f20a15fec62ac...| 56035.85825462517|2021-10-12| 57399.22646992879|\n",
      "|{619f20a15fec62ac...| 57399.22646992879|2021-10-11|        54695.9213|\n",
      "|{619f20a15fec62ac...|        54689.5713|2021-10-10| 54926.17141243465|\n",
      "|{619f20a15fec62ac...| 55102.17221375232|2021-10-09|         53962.199|\n",
      "|{619f20a15fec62ac...|        53892.9323|2021-10-08| 53781.69777700771|\n",
      "|{619f20a15fec62ac...| 53809.13817103468|2021-10-07| 55315.91067459052|\n",
      "|{619f20a25fec62ac...| 55385.44519072514|2021-10-06| 51500.05703123766|\n",
      "|{619f20a25fec62ac...| 51545.04936807646|2021-10-05|        49273.7109|\n",
      "|{619f20a25fec62ac...|        49176.7613|2021-10-04|        48186.6468|\n",
      "+--------------------+------------------+----------+------------------+\n",
      "only showing top 20 rows\n",
      "\n",
      "+--------------------+----------+--------------------+\n",
      "|                 _id|      date|            headline|\n",
      "+--------------------+----------+--------------------+\n",
      "|{619f1214b82509cf...|2021-08-01|Family speaks out...|\n",
      "|{619f1215b82509cf...|2021-08-01|China invasion of...|\n",
      "|{619f1215b82509cf...|2021-08-01|US digital paymen...|\n",
      "|{619f1215b82509cf...|2021-08-01|‘Allow Malaysians...|\n",
      "|{619f1215b82509cf...|2021-08-01|Australia's After...|\n",
      "|{619f1215b82509cf...|2021-08-01|Americans blast A...|\n",
      "|{619f1215b82509cf...|2021-08-01|Turkey fires ‘lik...|\n",
      "|{619f1215b82509cf...|2021-08-01|Horoscope today, ...|\n",
      "|{619f1215b82509cf...|2021-08-01|Horoscope Today: ...|\n",
      "|{619f1215b82509cf...|2021-08-01|Horoscope Today: ...|\n",
      "|{619f146e97b10036...|2021-08-02|Govt decides to i...|\n",
      "|{619f146f97b10036...|2021-08-02|Markets Live, Tue...|\n",
      "|{619f146f97b10036...|2021-08-02|Afghan peace effo...|\n",
      "|{619f146f97b10036...|2021-08-02|Minor girl’s rape...|\n",
      "|{619f146f97b10036...|2021-08-02|John Cleese asks ...|\n",
      "|{619f146f97b10036...|2021-08-02|Afghan fighting r...|\n",
      "|{619f146f97b10036...|2021-08-02|Afghan President ...|\n",
      "|{619f146f97b10036...|2021-08-02|Inside actor Aree...|\n",
      "|{619f146f97b10036...|2021-08-02|Jack Dorsey outli...|\n",
      "|{619f146f97b10036...|2021-08-02|Age of Empires IV...|\n",
      "+--------------------+----------+--------------------+\n",
      "only showing top 20 rows\n",
      "\n"
     ]
    }
   ],
   "source": [
    "crypto_df = spark.read.format(\"mongo\").option(\"uri\",\"mongodb://mongo/seng550.crypto\").load()\n",
    "crypto_df.show()\n",
    "headers_df = spark.read.format(\"mongo\").option(\"uri\",\"mongodb://mongo/seng550.headers\").load()\n",
    "headers_df.show()"
   ]
  },
  {
   "cell_type": "markdown",
   "id": "73fd0294",
   "metadata": {},
   "source": [
    "### Clean the crypto dataframe"
   ]
  },
  {
   "cell_type": "code",
   "execution_count": 12,
   "id": "96b1e3a6",
   "metadata": {},
   "outputs": [
    {
     "name": "stdout",
     "output_type": "stream",
     "text": [
      "+--------------------+------------------+----------+------------------+-------------------+\n",
      "|                 _id|             close|      date|              open|             change|\n",
      "+--------------------+------------------+----------+------------------+-------------------+\n",
      "|{619f20a05fec62ac...|        61238.6222|2021-10-23| 60690.28731420007|  548.3348857999299|\n",
      "|{619f20a15fec62ac...| 60694.00000650834|2021-10-22| 62196.96438572152|-1502.9643792131828|\n",
      "|{619f20a15fec62ac...|62298.093007718286|2021-10-21| 65961.04976056097| -3662.956752842685|\n",
      "|{619f20a15fec62ac...| 65986.30293718613|2021-10-20|        64252.7263| 1733.5766371861318|\n",
      "|{619f20a15fec62ac...|        64217.0839|2021-10-19|        62020.0126|  2197.071299999996|\n",
      "|{619f20a15fec62ac...|        61953.2331|2021-10-18| 61543.26469764322|  409.9684023567752|\n",
      "|{619f20a15fec62ac...| 61582.25155249131|2021-10-17| 60867.89483798279|   714.356714508518|\n",
      "|{619f20a15fec62ac...| 60860.89183706596|2021-10-16| 61698.03021926293| -837.1383821969721|\n",
      "|{619f20a15fec62ac...| 61526.33413298988|2021-10-15|57312.383791730215|  4213.950341259668|\n",
      "|{619f20a15fec62ac...|  57351.7384160736|2021-10-14|        57385.8884|   -34.149983926407|\n",
      "|{619f20a15fec62ac...|        57357.6067|2021-10-13| 56030.57101118398| 1327.0356888160168|\n",
      "|{619f20a15fec62ac...| 56035.85825462517|2021-10-12| 57399.22646992879|-1363.3682153036207|\n",
      "|{619f20a15fec62ac...| 57399.22646992879|2021-10-11|        54695.9213|   2703.30516992879|\n",
      "|{619f20a15fec62ac...|        54689.5713|2021-10-10| 54926.17141243465|-236.60011243464396|\n",
      "|{619f20a15fec62ac...| 55102.17221375232|2021-10-09|         53962.199|  1139.973213752317|\n",
      "|{619f20a15fec62ac...|        53892.9323|2021-10-08| 53781.69777700771| 111.23452299229393|\n",
      "|{619f20a15fec62ac...| 53809.13817103468|2021-10-07| 55315.91067459052|-1506.7725035558396|\n",
      "|{619f20a25fec62ac...| 55385.44519072514|2021-10-06| 51500.05703123766|  3885.388159487484|\n",
      "|{619f20a25fec62ac...| 51545.04936807646|2021-10-05|        49273.7109|  2271.338468076465|\n",
      "|{619f20a25fec62ac...|        49176.7613|2021-10-04|        48186.6468|   990.114499999996|\n",
      "+--------------------+------------------+----------+------------------+-------------------+\n",
      "only showing top 20 rows\n",
      "\n"
     ]
    },
    {
     "name": "stderr",
     "output_type": "stream",
     "text": [
      "21/12/06 19:48:44 WARN SimpleFunctionRegistry: The function change_udf replaced a previously registered function.\n"
     ]
    }
   ],
   "source": [
    "# https://stackoverflow.com/questions/58823628/call-a-function-for-each-row-of-a-dataframe-in-pysparknon-pandas\n",
    "from pyspark.sql.functions import col\n",
    "def get_change(close, open_):\n",
    "    return  close - open_\n",
    "spark.udf.register(\"change_udf\", get_change)\n",
    "# crypto_df.show()\n",
    "crypto_df = crypto_df.withColumn('change', get_change(col('close'), col('open')))\n",
    "crypto_df.show()"
   ]
  },
  {
   "cell_type": "markdown",
   "id": "b9efc76d",
   "metadata": {},
   "source": [
    "### Clean the headers dataframe"
   ]
  },
  {
   "cell_type": "code",
   "execution_count": 15,
   "id": "c2473bc9",
   "metadata": {},
   "outputs": [
    {
     "name": "stderr",
     "output_type": "stream",
     "text": [
      "21/12/06 19:49:16 WARN SimpleFunctionRegistry: The function clean_header_udf replaced a previously registered function.\n"
     ]
    },
    {
     "ename": "TypeError",
     "evalue": "'Column' object is not callable",
     "output_type": "error",
     "traceback": [
      "\u001B[0;31m---------------------------------------------------------------------------\u001B[0m",
      "\u001B[0;31mTypeError\u001B[0m                                 Traceback (most recent call last)",
      "\u001B[0;32m/tmp/ipykernel_272/437192278.py\u001B[0m in \u001B[0;36m<module>\u001B[0;34m\u001B[0m\n\u001B[1;32m     13\u001B[0m \u001B[0;34m\u001B[0m\u001B[0m\n\u001B[1;32m     14\u001B[0m \u001B[0mspark\u001B[0m\u001B[0;34m.\u001B[0m\u001B[0mudf\u001B[0m\u001B[0;34m.\u001B[0m\u001B[0mregister\u001B[0m\u001B[0;34m(\u001B[0m\u001B[0;34m\"clean_header_udf\"\u001B[0m\u001B[0;34m,\u001B[0m \u001B[0mclean_header\u001B[0m\u001B[0;34m)\u001B[0m\u001B[0;34m\u001B[0m\u001B[0;34m\u001B[0m\u001B[0m\n\u001B[0;32m---> 15\u001B[0;31m \u001B[0mheaders_df\u001B[0m \u001B[0;34m=\u001B[0m \u001B[0mheaders_df\u001B[0m\u001B[0;34m.\u001B[0m\u001B[0mwithColumn\u001B[0m\u001B[0;34m(\u001B[0m\u001B[0;34m'clean_header'\u001B[0m\u001B[0;34m,\u001B[0m \u001B[0mclean_header\u001B[0m\u001B[0;34m(\u001B[0m\u001B[0mcol\u001B[0m\u001B[0;34m(\u001B[0m\u001B[0;34m'headline'\u001B[0m\u001B[0;34m)\u001B[0m\u001B[0;34m)\u001B[0m\u001B[0;34m)\u001B[0m\u001B[0;34m\u001B[0m\u001B[0;34m\u001B[0m\u001B[0m\n\u001B[0m\u001B[1;32m     16\u001B[0m \u001B[0mdisplay\u001B[0m\u001B[0;34m(\u001B[0m\u001B[0mheaders_df\u001B[0m\u001B[0;34m)\u001B[0m\u001B[0;34m\u001B[0m\u001B[0;34m\u001B[0m\u001B[0m\n",
      "\u001B[0;32m/tmp/ipykernel_272/437192278.py\u001B[0m in \u001B[0;36mclean_header\u001B[0;34m(header)\u001B[0m\n\u001B[1;32m      6\u001B[0m     \u001B[0mporter\u001B[0m \u001B[0;34m=\u001B[0m \u001B[0mPorterStemmer\u001B[0m\u001B[0;34m(\u001B[0m\u001B[0;34m)\u001B[0m\u001B[0;34m\u001B[0m\u001B[0;34m\u001B[0m\u001B[0m\n\u001B[1;32m      7\u001B[0m     \u001B[0;31m# headers are small, so local process is ok\u001B[0m\u001B[0;34m\u001B[0m\u001B[0;34m\u001B[0m\u001B[0m\n\u001B[0;32m----> 8\u001B[0;31m     \u001B[0mheader\u001B[0m \u001B[0;34m=\u001B[0m \u001B[0mheader\u001B[0m\u001B[0;34m.\u001B[0m\u001B[0mstrip\u001B[0m\u001B[0;34m(\u001B[0m\u001B[0;34m)\u001B[0m\u001B[0;34m\u001B[0m\u001B[0;34m\u001B[0m\u001B[0m\n\u001B[0m\u001B[1;32m      9\u001B[0m     \u001B[0;32mif\u001B[0m \u001B[0;32mnot\u001B[0m \u001B[0mheader\u001B[0m\u001B[0;34m:\u001B[0m\u001B[0;34m\u001B[0m\u001B[0;34m\u001B[0m\u001B[0m\n\u001B[1;32m     10\u001B[0m         \u001B[0;32mreturn\u001B[0m \u001B[0;34m''\u001B[0m\u001B[0;34m\u001B[0m\u001B[0;34m\u001B[0m\u001B[0m\n",
      "\u001B[0;31mTypeError\u001B[0m: 'Column' object is not callable"
     ]
    }
   ],
   "source": [
    "\n",
    "import string\n",
    "from nltk.stem.porter import PorterStemmer\n",
    "from sklearn.feature_extraction.text import ENGLISH_STOP_WORDS\n",
    "\n",
    "def clean_header(header):\n",
    "    porter = PorterStemmer()\n",
    "    # headers are small, so local process is ok\n",
    "    header = header.strip()\n",
    "    if not header:\n",
    "        return ''\n",
    "    header = header.translate(str.maketrans('', '', string.punctuation))\n",
    "    return ' '.join(porter.stem(word) for word in header.split() if word not in ENGLISH_STOP_WORDS)\n",
    "\n",
    "spark.udf.register(\"clean_header_udf\", clean_header)\n",
    "headers_df = headers_df.withColumn('clean_header', clean_header(col('headline')))\n",
    "display(headers_df)"
   ]
  },
  {
   "cell_type": "code",
   "execution_count": null,
   "id": "8d378905",
   "metadata": {},
   "outputs": [],
   "source": []
  },
  {
   "cell_type": "code",
   "execution_count": null,
   "id": "dc1bf0d8",
   "metadata": {},
   "outputs": [],
   "source": []
  }
 ],
 "metadata": {
  "kernelspec": {
   "display_name": "Python 3 (ipykernel)",
   "language": "python",
   "name": "python3"
  },
  "language_info": {
   "codemirror_mode": {
    "name": "ipython",
    "version": 3
   },
   "file_extension": ".py",
   "mimetype": "text/x-python",
   "name": "python",
   "nbconvert_exporter": "python",
   "pygments_lexer": "ipython3",
   "version": "3.9.7"
  }
 },
 "nbformat": 4,
 "nbformat_minor": 5
}