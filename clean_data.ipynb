{
 "cells": [
  {
   "cell_type": "markdown",
   "id": "120b149c",
   "metadata": {},
   "source": [
    "# Clean data"
   ]
  },
  {
   "cell_type": "code",
   "execution_count": 1,
   "id": "2f70c49b",
   "metadata": {},
   "outputs": [
    {
     "name": "stdout",
     "output_type": "stream",
     "text": [
      "Requirement already satisfied: nltk in /opt/conda/lib/python3.9/site-packages (3.6.5)\n",
      "Requirement already satisfied: click in /opt/conda/lib/python3.9/site-packages (from nltk) (8.0.3)\n",
      "Requirement already satisfied: regex>=2021.8.3 in /opt/conda/lib/python3.9/site-packages (from nltk) (2021.11.10)\n",
      "Requirement already satisfied: tqdm in /opt/conda/lib/python3.9/site-packages (from nltk) (4.62.3)\n",
      "Requirement already satisfied: joblib in /opt/conda/lib/python3.9/site-packages (from nltk) (1.1.0)\n",
      "Requirement already satisfied: sklearn in /opt/conda/lib/python3.9/site-packages (0.0)\n",
      "Requirement already satisfied: scikit-learn in /opt/conda/lib/python3.9/site-packages (from sklearn) (1.0.1)\n",
      "Requirement already satisfied: threadpoolctl>=2.0.0 in /opt/conda/lib/python3.9/site-packages (from scikit-learn->sklearn) (3.0.0)\n",
      "Requirement already satisfied: joblib>=0.11 in /opt/conda/lib/python3.9/site-packages (from scikit-learn->sklearn) (1.1.0)\n",
      "Requirement already satisfied: numpy>=1.14.6 in /opt/conda/lib/python3.9/site-packages (from scikit-learn->sklearn) (1.20.3)\n",
      "Requirement already satisfied: scipy>=1.1.0 in /opt/conda/lib/python3.9/site-packages (from scikit-learn->sklearn) (1.7.2)\n"
     ]
    }
   ],
   "source": [
    "!pip install nltk\n",
    "!pip install sklearn"
   ]
  },
  {
   "cell_type": "code",
   "execution_count": 2,
   "id": "89aced4b",
   "metadata": {},
   "outputs": [
    {
     "name": "stderr",
     "output_type": "stream",
     "text": [
      "WARNING: An illegal reflective access operation has occurred\n",
      "WARNING: Illegal reflective access by org.apache.spark.unsafe.Platform (file:/usr/local/spark-3.2.0-bin-hadoop3.2/jars/spark-unsafe_2.12-3.2.0.jar) to constructor java.nio.DirectByteBuffer(long,int)\n",
      "WARNING: Please consider reporting this to the maintainers of org.apache.spark.unsafe.Platform\n",
      "WARNING: Use --illegal-access=warn to enable warnings of further illegal reflective access operations\n",
      "WARNING: All illegal access operations will be denied in a future release\n",
      "Ivy Default Cache set to: /home/jovyan/.ivy2/cache\n",
      "The jars for the packages stored in: /home/jovyan/.ivy2/jars\n",
      "org.mongodb.spark#mongo-spark-connector_2.12 added as a dependency\n",
      ":: resolving dependencies :: org.apache.spark#spark-submit-parent-df392e77-c241-40b0-98e4-0c0a5ce29133;1.0\n",
      "\tconfs: [default]\n"
     ]
    },
    {
     "name": "stdout",
     "output_type": "stream",
     "text": [
      ":: loading settings :: url = jar:file:/usr/local/spark-3.2.0-bin-hadoop3.2/jars/ivy-2.5.0.jar!/org/apache/ivy/core/settings/ivysettings.xml\n"
     ]
    },
    {
     "name": "stderr",
     "output_type": "stream",
     "text": [
      "\tfound org.mongodb.spark#mongo-spark-connector_2.12;3.0.1 in central\n",
      "\tfound org.mongodb#mongodb-driver-sync;4.0.5 in central\n",
      "\tfound org.mongodb#bson;4.0.5 in central\n",
      "\tfound org.mongodb#mongodb-driver-core;4.0.5 in central\n",
      ":: resolution report :: resolve 146ms :: artifacts dl 8ms\n",
      "\t:: modules in use:\n",
      "\torg.mongodb#bson;4.0.5 from central in [default]\n",
      "\torg.mongodb#mongodb-driver-core;4.0.5 from central in [default]\n",
      "\torg.mongodb#mongodb-driver-sync;4.0.5 from central in [default]\n",
      "\torg.mongodb.spark#mongo-spark-connector_2.12;3.0.1 from central in [default]\n",
      "\t---------------------------------------------------------------------\n",
      "\t|                  |            modules            ||   artifacts   |\n",
      "\t|       conf       | number| search|dwnlded|evicted|| number|dwnlded|\n",
      "\t---------------------------------------------------------------------\n",
      "\t|      default     |   4   |   0   |   0   |   0   ||   4   |   0   |\n",
      "\t---------------------------------------------------------------------\n",
      ":: retrieving :: org.apache.spark#spark-submit-parent-df392e77-c241-40b0-98e4-0c0a5ce29133\n",
      "\tconfs: [default]\n",
      "\t0 artifacts copied, 4 already retrieved (0kB/5ms)\n",
      "21/12/06 20:26:45 WARN NativeCodeLoader: Unable to load native-hadoop library for your platform... using builtin-java classes where applicable\n",
      "Using Spark's default log4j profile: org/apache/spark/log4j-defaults.properties\n",
      "Setting default log level to \"WARN\".\n",
      "To adjust logging level use sc.setLogLevel(newLevel). For SparkR, use setLogLevel(newLevel).\n"
     ]
    },
    {
     "name": "stdout",
     "output_type": "stream",
     "text": [
      "<pyspark.sql.session.SparkSession object at 0x7fc18c6740d0>\n"
     ]
    }
   ],
   "source": [
    "from pyspark.sql import SparkSession\n",
    "spark = SparkSession \\\n",
    "    .builder \\\n",
    "    .getOrCreate()\n",
    "print(spark)"
   ]
  },
  {
   "cell_type": "code",
   "execution_count": 7,
   "id": "636d21a4",
   "metadata": {},
   "outputs": [
    {
     "name": "stdout",
     "output_type": "stream",
     "text": [
      "+--------------------+------------------+----------+------------------+\n",
      "|                 _id|             close|      date|              open|\n",
      "+--------------------+------------------+----------+------------------+\n",
      "|{619f20a05fec62ac...|        61238.6222|2021-10-23| 60690.28731420007|\n",
      "|{619f20a15fec62ac...| 60694.00000650834|2021-10-22| 62196.96438572152|\n",
      "|{619f20a15fec62ac...|62298.093007718286|2021-10-21| 65961.04976056097|\n",
      "|{619f20a15fec62ac...| 65986.30293718613|2021-10-20|        64252.7263|\n",
      "|{619f20a15fec62ac...|        64217.0839|2021-10-19|        62020.0126|\n",
      "|{619f20a15fec62ac...|        61953.2331|2021-10-18| 61543.26469764322|\n",
      "|{619f20a15fec62ac...| 61582.25155249131|2021-10-17| 60867.89483798279|\n",
      "|{619f20a15fec62ac...| 60860.89183706596|2021-10-16| 61698.03021926293|\n",
      "|{619f20a15fec62ac...| 61526.33413298988|2021-10-15|57312.383791730215|\n",
      "|{619f20a15fec62ac...|  57351.7384160736|2021-10-14|        57385.8884|\n",
      "|{619f20a15fec62ac...|        57357.6067|2021-10-13| 56030.57101118398|\n",
      "|{619f20a15fec62ac...| 56035.85825462517|2021-10-12| 57399.22646992879|\n",
      "|{619f20a15fec62ac...| 57399.22646992879|2021-10-11|        54695.9213|\n",
      "|{619f20a15fec62ac...|        54689.5713|2021-10-10| 54926.17141243465|\n",
      "|{619f20a15fec62ac...| 55102.17221375232|2021-10-09|         53962.199|\n",
      "|{619f20a15fec62ac...|        53892.9323|2021-10-08| 53781.69777700771|\n",
      "|{619f20a15fec62ac...| 53809.13817103468|2021-10-07| 55315.91067459052|\n",
      "|{619f20a25fec62ac...| 55385.44519072514|2021-10-06| 51500.05703123766|\n",
      "|{619f20a25fec62ac...| 51545.04936807646|2021-10-05|        49273.7109|\n",
      "|{619f20a25fec62ac...|        49176.7613|2021-10-04|        48186.6468|\n",
      "+--------------------+------------------+----------+------------------+\n",
      "only showing top 20 rows\n",
      "\n",
      "+--------------------+----------+--------------------+\n",
      "|                 _id|      date|            headline|\n",
      "+--------------------+----------+--------------------+\n",
      "|{619f1214b82509cf...|2021-08-01|Family speaks out...|\n",
      "|{619f1215b82509cf...|2021-08-01|China invasion of...|\n",
      "|{619f1215b82509cf...|2021-08-01|US digital paymen...|\n",
      "|{619f1215b82509cf...|2021-08-01|‘Allow Malaysians...|\n",
      "|{619f1215b82509cf...|2021-08-01|Australia's After...|\n",
      "|{619f1215b82509cf...|2021-08-01|Americans blast A...|\n",
      "|{619f1215b82509cf...|2021-08-01|Turkey fires ‘lik...|\n",
      "|{619f1215b82509cf...|2021-08-01|Horoscope today, ...|\n",
      "|{619f1215b82509cf...|2021-08-01|Horoscope Today: ...|\n",
      "|{619f1215b82509cf...|2021-08-01|Horoscope Today: ...|\n",
      "|{619f146e97b10036...|2021-08-02|Govt decides to i...|\n",
      "|{619f146f97b10036...|2021-08-02|Markets Live, Tue...|\n",
      "|{619f146f97b10036...|2021-08-02|Afghan peace effo...|\n",
      "|{619f146f97b10036...|2021-08-02|Minor girl’s rape...|\n",
      "|{619f146f97b10036...|2021-08-02|John Cleese asks ...|\n",
      "|{619f146f97b10036...|2021-08-02|Afghan fighting r...|\n",
      "|{619f146f97b10036...|2021-08-02|Afghan President ...|\n",
      "|{619f146f97b10036...|2021-08-02|Inside actor Aree...|\n",
      "|{619f146f97b10036...|2021-08-02|Jack Dorsey outli...|\n",
      "|{619f146f97b10036...|2021-08-02|Age of Empires IV...|\n",
      "+--------------------+----------+--------------------+\n",
      "only showing top 20 rows\n",
      "\n"
     ]
    }
   ],
   "source": [
    "crypto_df = spark.read.format(\"mongo\").option(\"uri\",\"mongodb://mongo/seng550.crypto\").load()\n",
    "crypto_df.show()\n",
    "headers_df = spark.read.format(\"mongo\").option(\"uri\",\"mongodb://mongo/seng550.headers\").load()\n",
    "headers_df.show()"
   ]
  },
  {
   "cell_type": "markdown",
   "id": "73fd0294",
   "metadata": {},
   "source": [
    "### Clean the crypto dataframe - JD"
   ]
  },
  {
   "cell_type": "code",
   "execution_count": 4,
   "id": "96b1e3a6",
   "metadata": {},
   "outputs": [
    {
     "name": "stdout",
     "output_type": "stream",
     "text": [
      "+--------------------+------------------+----------+------------------+-------------------+\n",
      "|                 _id|             close|      date|              open|             change|\n",
      "+--------------------+------------------+----------+------------------+-------------------+\n",
      "|{619f20a05fec62ac...|        61238.6222|2021-10-23| 60690.28731420007|  548.3348857999299|\n",
      "|{619f20a15fec62ac...| 60694.00000650834|2021-10-22| 62196.96438572152|-1502.9643792131828|\n",
      "|{619f20a15fec62ac...|62298.093007718286|2021-10-21| 65961.04976056097| -3662.956752842685|\n",
      "|{619f20a15fec62ac...| 65986.30293718613|2021-10-20|        64252.7263| 1733.5766371861318|\n",
      "|{619f20a15fec62ac...|        64217.0839|2021-10-19|        62020.0126|  2197.071299999996|\n",
      "|{619f20a15fec62ac...|        61953.2331|2021-10-18| 61543.26469764322|  409.9684023567752|\n",
      "|{619f20a15fec62ac...| 61582.25155249131|2021-10-17| 60867.89483798279|   714.356714508518|\n",
      "|{619f20a15fec62ac...| 60860.89183706596|2021-10-16| 61698.03021926293| -837.1383821969721|\n",
      "|{619f20a15fec62ac...| 61526.33413298988|2021-10-15|57312.383791730215|  4213.950341259668|\n",
      "|{619f20a15fec62ac...|  57351.7384160736|2021-10-14|        57385.8884|   -34.149983926407|\n",
      "|{619f20a15fec62ac...|        57357.6067|2021-10-13| 56030.57101118398| 1327.0356888160168|\n",
      "|{619f20a15fec62ac...| 56035.85825462517|2021-10-12| 57399.22646992879|-1363.3682153036207|\n",
      "|{619f20a15fec62ac...| 57399.22646992879|2021-10-11|        54695.9213|   2703.30516992879|\n",
      "|{619f20a15fec62ac...|        54689.5713|2021-10-10| 54926.17141243465|-236.60011243464396|\n",
      "|{619f20a15fec62ac...| 55102.17221375232|2021-10-09|         53962.199|  1139.973213752317|\n",
      "|{619f20a15fec62ac...|        53892.9323|2021-10-08| 53781.69777700771| 111.23452299229393|\n",
      "|{619f20a15fec62ac...| 53809.13817103468|2021-10-07| 55315.91067459052|-1506.7725035558396|\n",
      "|{619f20a25fec62ac...| 55385.44519072514|2021-10-06| 51500.05703123766|  3885.388159487484|\n",
      "|{619f20a25fec62ac...| 51545.04936807646|2021-10-05|        49273.7109|  2271.338468076465|\n",
      "|{619f20a25fec62ac...|        49176.7613|2021-10-04|        48186.6468|   990.114499999996|\n",
      "+--------------------+------------------+----------+------------------+-------------------+\n",
      "only showing top 20 rows\n",
      "\n"
     ]
    }
   ],
   "source": [
    "# https://stackoverflow.com/questions/58823628/call-a-function-for-each-row-of-a-dataframe-in-pysparknon-pandas\n",
    "from pyspark.sql.functions import col, udf\n",
    "from pyspark.sql.types import StringType\n",
    "def get_change(close, open_):\n",
    "    return  close - open_\n",
    "spark.udf.register(\"change_udf\", get_change)\n",
    "# crypto_df.show()\n",
    "crypto_df = crypto_df.withColumn('change', get_change(col('close'), col('open')))\n",
    "crypto_df.show()"
   ]
  },
  {
   "cell_type": "markdown",
   "id": "b9efc76d",
   "metadata": {},
   "source": [
    "### Clean the headers dataframe - JD"
   ]
  },
  {
   "cell_type": "code",
   "execution_count": 8,
   "id": "c2473bc9",
   "metadata": {},
   "outputs": [
    {
     "name": "stdout",
     "output_type": "stream",
     "text": [
      "+--------------------+----------+--------------------+--------------------+\n",
      "|                 _id|      date|            headline|        clean_header|\n",
      "+--------------------+----------+--------------------+--------------------+\n",
      "|{619f1214b82509cf...|2021-08-01|Family speaks out...|famili speak raci...|\n",
      "|{619f1215b82509cf...|2021-08-01|China invasion of...|china invas taiwa...|\n",
      "|{619f1215b82509cf...|2021-08-01|US digital paymen...|us digit payment ...|\n",
      "|{619f1215b82509cf...|2021-08-01|‘Allow Malaysians...|‘allow malaysian ...|\n",
      "|{619f1215b82509cf...|2021-08-01|Australia's After...|australia afterpa...|\n",
      "|{619f1215b82509cf...|2021-08-01|Americans blast A...|american blast au...|\n",
      "|{619f1215b82509cf...|2021-08-01|Turkey fires ‘lik...|turkey fire ‘like...|\n",
      "|{619f1215b82509cf...|2021-08-01|Horoscope today, ...|horoscop today mo...|\n",
      "|{619f1215b82509cf...|2021-08-01|Horoscope Today: ...|horoscop today as...|\n",
      "|{619f1215b82509cf...|2021-08-01|Horoscope Today: ...|horoscop today as...|\n",
      "|{619f146e97b10036...|2021-08-02|Govt decides to i...|govt decid import...|\n",
      "|{619f146f97b10036...|2021-08-02|Markets Live, Tue...|market live tuesd...|\n",
      "|{619f146f97b10036...|2021-08-02|Afghan peace effo...|afghan peac effor...|\n",
      "|{619f146f97b10036...|2021-08-02|Minor girl’s rape...|minor girl’ rape ...|\n",
      "|{619f146f97b10036...|2021-08-02|John Cleese asks ...|john clees ask pl...|\n",
      "|{619f146f97b10036...|2021-08-02|Afghan fighting r...|afghan fight rage...|\n",
      "|{619f146f97b10036...|2021-08-02|Afghan President ...|afghan presid ash...|\n",
      "|{619f146f97b10036...|2021-08-02|Inside actor Aree...|insid actor areeb...|\n",
      "|{619f146f97b10036...|2021-08-02|Jack Dorsey outli...|jack dorsey outli...|\n",
      "|{619f146f97b10036...|2021-08-02|Age of Empires IV...|age empir iv late...|\n",
      "+--------------------+----------+--------------------+--------------------+\n",
      "only showing top 20 rows\n",
      "\n"
     ]
    }
   ],
   "source": [
    "\n",
    "import string\n",
    "from nltk.stem.porter import PorterStemmer\n",
    "from sklearn.feature_extraction.text import ENGLISH_STOP_WORDS\n",
    "\n",
    "def clean_header(header):\n",
    "    porter = PorterStemmer()\n",
    "    # headers are small, so local process is ok\n",
    "    header = header.strip()\n",
    "    if not header:\n",
    "        return ''\n",
    "    header = header.translate(str.maketrans('', '', string.punctuation))\n",
    "    return ' '.join(porter.stem(word) for word in header.split() if word not in ENGLISH_STOP_WORDS)\n",
    "udf_clean_header = udf(lambda s: clean_header(s), StringType())\n",
    "headers_df = headers_df.withColumn('clean_headline', udf_clean_header(col('headline')))\n",
    "headers_df.show()"
   ]
  },
  {
   "cell_type": "markdown",
   "id": "e1e8dad1",
   "metadata": {},
   "source": [
    "### Join - Owen"
   ]
  },
  {
   "cell_type": "markdown",
   "id": "43c9f74d",
   "metadata": {},
   "source": [
    "### Split data - JD"
   ]
  },
  {
   "cell_type": "code",
   "execution_count": 10,
   "id": "24e92fed",
   "metadata": {},
   "outputs": [
    {
     "name": "stderr",
     "output_type": "stream",
     "text": [
      "21/12/06 20:37:09 WARN WindowExec: No Partition Defined for Window operation! Moving all data to a single partition, this can cause serious performance degradation.\n",
      "21/12/06 20:37:09 WARN WindowExec: No Partition Defined for Window operation! Moving all data to a single partition, this can cause serious performance degradation.\n",
      "21/12/06 20:37:10 WARN WindowExec: No Partition Defined for Window operation! Moving all data to a single partition, this can cause serious performance degradation.\n",
      "21/12/06 20:37:10 WARN WindowExec: No Partition Defined for Window operation! Moving all data to a single partition, this can cause serious performance degradation.\n",
      "21/12/06 20:37:10 WARN WindowExec: No Partition Defined for Window operation! Moving all data to a single partition, this can cause serious performance degradation.\n"
     ]
    },
    {
     "name": "stdout",
     "output_type": "stream",
     "text": [
      "+--------------------+----------+--------------------+--------------------+\n",
      "|                 _id|      date|            headline|        clean_header|\n",
      "+--------------------+----------+--------------------+--------------------+\n",
      "|{61a29a055c39c628...|2021-03-01|Black Amazon exec...|black amazon exec...|\n",
      "|{61a29a065c39c628...|2021-03-01|Jeff Bezos versus...|jeff bezo versu m...|\n",
      "|{61a29a065c39c628...|2021-03-01|Michael Gudinski ...|michael gudinski ...|\n",
      "|{61a29a065c39c628...|2021-03-01|New, revolutionar...|new revolutionari...|\n",
      "|{61a29a065c39c628...|2021-03-01|Lady Gaga's dog w...|ladi gaga dog wal...|\n",
      "|{61a29a065c39c628...|2021-03-01|Study assesses ca...|studi assess caus...|\n",
      "|{61a29a065c39c628...|2021-03-01|Seahawks QB Russe...|seahawk qb russel...|\n",
      "|{61a29a065c39c628...|2021-03-01|Calls for permane...|call perman reope...|\n",
      "|{61a29a065c39c628...|2021-03-01|An insanely blurr...|an insan blurri t...|\n",
      "|{61a29a065c39c628...|2021-03-01|One third of Hin ...|one hin leong fou...|\n",
      "|{61a29a065c39c628...|2021-03-02|White House pulls...|white hous pull n...|\n",
      "|{61a29a065c39c628...|2021-03-02|Is the Pfizer COV...|is pfizer covid v...|\n",
      "|{61a29a065c39c628...|2021-03-02|Hilaria and Alec ...|hilaria alec bald...|\n",
      "|{61a29a065c39c628...|2021-03-02|Gov. Abbott's exe...|gov abbott execut...|\n",
      "|{61a29a065c39c628...|2021-03-02|Risk for Breast C...|risk breast cance...|\n",
      "|{61a29a065c39c628...|2021-03-02|Texas governor li...|texa governor lif...|\n",
      "|{61a29a075c39c628...|2021-03-02|COVID-19 vaccine ...|covid19 vaccin al...|\n",
      "|{61a29a075c39c628...|2021-03-02|Reports suggest r...|report suggest ro...|\n",
      "|{61a29a075c39c628...|2021-03-02|Who Is Meghan Mar...|who is meghan mar...|\n",
      "|{61a29a075c39c628...|2021-03-02|Rio Tinto chairma...|rio tinto chairma...|\n",
      "+--------------------+----------+--------------------+--------------------+\n",
      "only showing top 20 rows\n",
      "\n"
     ]
    },
    {
     "name": "stderr",
     "output_type": "stream",
     "text": [
      "21/12/06 20:37:10 WARN WindowExec: No Partition Defined for Window operation! Moving all data to a single partition, this can cause serious performance degradation.\n"
     ]
    },
    {
     "name": "stdout",
     "output_type": "stream",
     "text": [
      "+--------------------+----------+--------------------+--------------------+\n",
      "|                 _id|      date|            headline|        clean_header|\n",
      "+--------------------+----------+--------------------+--------------------+\n",
      "|{619f14897cd306c4...|2021-09-08|How to Support A ...|how support a fri...|\n",
      "|{619f14897cd306c4...|2021-09-08|Tropical Storm Mi...|tropic storm mind...|\n",
      "|{619f14897cd306c4...|2021-09-08|Pediatric COVID c...|pediatr covid cas...|\n",
      "|{619f14897cd306c4...|2021-09-08|McConnell sends '...|mcconnel send lot...|\n",
      "|{619f14897cd306c4...|2021-09-08|Taliban cabinet i...|taliban cabinet i...|\n",
      "|{619f14897cd306c4...|2021-09-08|Karnal stir to mi...|karnal stir mirro...|\n",
      "|{619f14897cd306c4...|2021-09-08|Air New Zealand a...|air new zealand a...|\n",
      "|{619f14897cd306c4...|2021-09-08|Labor Department ...|labor depart tout...|\n",
      "|{619f14897cd306c4...|2021-09-08|COVID-19 breakthr...|covid19 breakthro...|\n",
      "|{619f14897cd306c4...|2021-09-08|Scott Morrison se...|scott morrison se...|\n",
      "|{619f148a7cd306c4...|2021-09-09|2 bodies pulled f...|2 bodi pull new j...|\n",
      "|{619f148a7cd306c4...|2021-09-09|Emma Raducanu LIV...|emma raducanu liv...|\n",
      "|{619f148a7cd306c4...|2021-09-09|NSW Treasurer las...|nsw treasur lash ...|\n",
      "|{619f148a7cd306c4...|2021-09-09|Biden pushes rapi...|biden push rapid ...|\n",
      "|{619f148a7cd306c4...|2021-09-09|Horoscope today, ...|horoscop today se...|\n",
      "|{619f148a7cd306c4...|2021-09-09|Afghan political ...|afghan polit sett...|\n",
      "|{619f148a7cd306c4...|2021-09-09|Los Angeles publi...|lo angel public s...|\n",
      "|{619f148a7cd306c4...|2021-09-09|ASX to open highe...|asx open higher d...|\n",
      "|{619f148a7cd306c4...|2021-09-09|Biden to campaign...|biden campaign ne...|\n",
      "|{619f148a7cd306c4...|2021-09-09|Los Angeles to re...|lo angel requir v...|\n",
      "+--------------------+----------+--------------------+--------------------+\n",
      "only showing top 20 rows\n",
      "\n"
     ]
    },
    {
     "name": "stderr",
     "output_type": "stream",
     "text": [
      "21/12/06 20:37:10 WARN WindowExec: No Partition Defined for Window operation! Moving all data to a single partition, this can cause serious performance degradation.\n",
      "21/12/06 20:37:10 WARN WindowExec: No Partition Defined for Window operation! Moving all data to a single partition, this can cause serious performance degradation.\n"
     ]
    },
    {
     "name": "stdout",
     "output_type": "stream",
     "text": [
      "+--------------------+----------+--------------------+--------------------+--------------------+-----+\n",
      "|                 _id|      date|            headline|        clean_header|                rank|index|\n",
      "+--------------------+----------+--------------------+--------------------+--------------------+-----+\n",
      "|{61a29a055c39c628...|2021-03-01|Black Amazon exec...|black amazon exec...|                 0.0|    0|\n",
      "|{61a29a065c39c628...|2021-03-01|Jeff Bezos versus...|jeff bezo versu m...|                 0.0|    0|\n",
      "|{61a29a065c39c628...|2021-03-01|Michael Gudinski ...|michael gudinski ...|                 0.0|    0|\n",
      "|{61a29a065c39c628...|2021-03-01|New, revolutionar...|new revolutionari...|                 0.0|    0|\n",
      "|{61a29a065c39c628...|2021-03-01|Lady Gaga's dog w...|ladi gaga dog wal...|                 0.0|    0|\n",
      "|{61a29a065c39c628...|2021-03-01|Study assesses ca...|studi assess caus...|                 0.0|    0|\n",
      "|{61a29a065c39c628...|2021-03-01|Seahawks QB Russe...|seahawk qb russel...|                 0.0|    0|\n",
      "|{61a29a065c39c628...|2021-03-01|Calls for permane...|call perman reope...|                 0.0|    0|\n",
      "|{61a29a065c39c628...|2021-03-01|An insanely blurr...|an insan blurri t...|                 0.0|    0|\n",
      "|{61a29a065c39c628...|2021-03-01|One third of Hin ...|one hin leong fou...|                 0.0|    0|\n",
      "|{61a29a065c39c628...|2021-03-02|White House pulls...|white hous pull n...|0.004203446826397646|    1|\n",
      "|{61a29a065c39c628...|2021-03-02|Is the Pfizer COV...|is pfizer covid v...|0.004203446826397646|    1|\n",
      "|{61a29a065c39c628...|2021-03-02|Hilaria and Alec ...|hilaria alec bald...|0.004203446826397646|    1|\n",
      "|{61a29a065c39c628...|2021-03-02|Gov. Abbott's exe...|gov abbott execut...|0.004203446826397646|    1|\n",
      "|{61a29a065c39c628...|2021-03-02|Risk for Breast C...|risk breast cance...|0.004203446826397646|    1|\n",
      "|{61a29a065c39c628...|2021-03-02|Texas governor li...|texa governor lif...|0.004203446826397646|    1|\n",
      "|{61a29a075c39c628...|2021-03-02|COVID-19 vaccine ...|covid19 vaccin al...|0.004203446826397646|    1|\n",
      "|{61a29a075c39c628...|2021-03-02|Reports suggest r...|report suggest ro...|0.004203446826397646|    1|\n",
      "|{61a29a075c39c628...|2021-03-02|Who Is Meghan Mar...|who is meghan mar...|0.004203446826397646|    1|\n",
      "|{61a29a075c39c628...|2021-03-02|Rio Tinto chairma...|rio tinto chairma...|0.004203446826397646|    1|\n",
      "+--------------------+----------+--------------------+--------------------+--------------------+-----+\n",
      "only showing top 20 rows\n",
      "\n"
     ]
    },
    {
     "name": "stderr",
     "output_type": "stream",
     "text": [
      "21/12/06 20:37:11 WARN WindowExec: No Partition Defined for Window operation! Moving all data to a single partition, this can cause serious performance degradation.\n"
     ]
    }
   ],
   "source": [
    "# method 1 https://stackoverflow.com/a/51773836, can only be done on 1 partition\n",
    "from pyspark.sql.functions import percent_rank\n",
    "from pyspark.sql import Window\n",
    "\n",
    "# assign ranks\n",
    "# TODO better method to avoid this problem - if we do random splits it might be better? \n",
    "headers_df = headers_df.withColumn(\"rank\", percent_rank().over(Window.partitionBy().orderBy(\"date\")))\n",
    "# split\n",
    "train_headlines_df = headers_df.where(\"rank <= .8\").drop(\"rank\")\n",
    "test_headlines_df = headers_df.where(\"rank > .8\").drop(\"rank\")\n",
    "\n",
    "train_headlines_df.show()\n",
    "test_headlines_df.show()\n",
    "\n",
    "# method 2 https://stackoverflow.com/a/53193549, needs the number of dates fed in to split\n",
    "# from pyspark.ml.feature import StringIndexer\n",
    "\n",
    "# stringIndexer = StringIndexer(inputCol=\"date\", outputCol=\"index\")\n",
    "# model = stringIndexer.fit(headers_df)\n",
    "# headers_df = model.transform(headers_df).withColumn(\"index\", col(\"index\").cast(\"int\"))\n",
    "\n",
    "# headers_df.show()"
   ]
  },
  {
   "cell_type": "code",
   "execution_count": null,
   "id": "4e2ccad9",
   "metadata": {},
   "outputs": [],
   "source": []
  }
 ],
 "metadata": {
  "kernelspec": {
   "display_name": "Python 3 (ipykernel)",
   "language": "python",
   "name": "python3"
  },
  "language_info": {
   "codemirror_mode": {
    "name": "ipython",
    "version": 3
   },
   "file_extension": ".py",
   "mimetype": "text/x-python",
   "name": "python",
   "nbconvert_exporter": "python",
   "pygments_lexer": "ipython3",
   "version": "3.9.7"
  }
 },
 "nbformat": 4,
 "nbformat_minor": 5
}